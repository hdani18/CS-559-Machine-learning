{
 "cells": [
  {
   "cell_type": "markdown",
   "id": "a40613fd",
   "metadata": {},
   "source": [
    "# <center> CS559 Homework#3: Decision Tree and Ensemble Methods</center>\n",
    "## <center> Due: 11/8/2021 Monday at 11:59 PM</center>\n",
    "\n",
    "\n",
    "In this assignment, you are going to implement four classifiers - **decision tree, random forest, adaboost, and gradient boost**. \n",
    "Then check the performance with `sklearn` built-in algorithms.\n",
    "In this work, splitting into train and test sets is not necessary. \n",
    "\n",
    "The provided data has four columns - three features (a, b, and c) and the target (class). Three features are continuous data and the target is a binary, 0 or 1. "
   ]
  },
  {
   "cell_type": "code",
   "execution_count": 1,
   "id": "86e5d6ef",
   "metadata": {},
   "outputs": [],
   "source": [
    "import numpy as np\n",
    "import pandas as pd\n",
    "import matplotlib.pyplot as plt\n",
    "import seaborn as sns\n",
    "from sklearn.preprocessing import StandardScaler, MinMaxScaler\n",
    "from sklearn.tree import DecisionTreeClassifier\n",
    "from sklearn.ensemble import RandomForestClassifier\n",
    "from sklearn.ensemble import AdaBoostClassifier\n",
    "from sklearn.ensemble import GradientBoostingClassifier\n",
    "from sklearn.metrics import accuracy_score,classification_report\n",
    "from sklearn.metrics import confusion_matrix\n",
    "import warnings\n",
    "warnings.filterwarnings(\"ignore\")"
   ]
  },
  {
   "cell_type": "code",
   "execution_count": 2,
   "id": "f975b02a",
   "metadata": {},
   "outputs": [],
   "source": [
    "df = pd.read_csv('./F21_CS559_HW3_data.csv')"
   ]
  },
  {
   "cell_type": "code",
   "execution_count": 3,
   "id": "3ae81bf0",
   "metadata": {},
   "outputs": [
    {
     "data": {
      "text/html": [
       "<div>\n",
       "<style scoped>\n",
       "    .dataframe tbody tr th:only-of-type {\n",
       "        vertical-align: middle;\n",
       "    }\n",
       "\n",
       "    .dataframe tbody tr th {\n",
       "        vertical-align: top;\n",
       "    }\n",
       "\n",
       "    .dataframe thead th {\n",
       "        text-align: right;\n",
       "    }\n",
       "</style>\n",
       "<table border=\"1\" class=\"dataframe\">\n",
       "  <thead>\n",
       "    <tr style=\"text-align: right;\">\n",
       "      <th></th>\n",
       "      <th>a</th>\n",
       "      <th>b</th>\n",
       "      <th>c</th>\n",
       "      <th>class</th>\n",
       "    </tr>\n",
       "  </thead>\n",
       "  <tbody>\n",
       "    <tr>\n",
       "      <th>0</th>\n",
       "      <td>9.4202</td>\n",
       "      <td>-4.3507</td>\n",
       "      <td>10.3764</td>\n",
       "      <td>1</td>\n",
       "    </tr>\n",
       "    <tr>\n",
       "      <th>1</th>\n",
       "      <td>9.7044</td>\n",
       "      <td>-4.4601</td>\n",
       "      <td>10.6803</td>\n",
       "      <td>1</td>\n",
       "    </tr>\n",
       "    <tr>\n",
       "      <th>2</th>\n",
       "      <td>9.8075</td>\n",
       "      <td>-4.0894</td>\n",
       "      <td>10.6259</td>\n",
       "      <td>1</td>\n",
       "    </tr>\n",
       "    <tr>\n",
       "      <th>3</th>\n",
       "      <td>9.2771</td>\n",
       "      <td>-4.0349</td>\n",
       "      <td>10.1166</td>\n",
       "      <td>1</td>\n",
       "    </tr>\n",
       "    <tr>\n",
       "      <th>4</th>\n",
       "      <td>9.6447</td>\n",
       "      <td>-3.5968</td>\n",
       "      <td>10.2936</td>\n",
       "      <td>1</td>\n",
       "    </tr>\n",
       "  </tbody>\n",
       "</table>\n",
       "</div>"
      ],
      "text/plain": [
       "        a       b        c  class\n",
       "0  9.4202 -4.3507  10.3764      1\n",
       "1  9.7044 -4.4601  10.6803      1\n",
       "2  9.8075 -4.0894  10.6259      1\n",
       "3  9.2771 -4.0349  10.1166      1\n",
       "4  9.6447 -3.5968  10.2936      1"
      ]
     },
     "execution_count": 3,
     "metadata": {},
     "output_type": "execute_result"
    }
   ],
   "source": [
    "df.head(5)"
   ]
  },
  {
   "cell_type": "code",
   "execution_count": 4,
   "id": "04a142d7",
   "metadata": {},
   "outputs": [
    {
     "name": "stdout",
     "output_type": "stream",
     "text": [
      "Shape: (2500, 4)\n",
      "num samples = 2500\n",
      "num attributes = 4\n"
     ]
    }
   ],
   "source": [
    "print(\"Shape:\",df.shape)\n",
    "print(\"num samples =\",df.shape[0])\n",
    "print(\"num attributes =\",df.shape[1])"
   ]
  },
  {
   "cell_type": "code",
   "execution_count": 5,
   "id": "f71254f3",
   "metadata": {},
   "outputs": [
    {
     "data": {
      "text/plain": [
       "a        float64\n",
       "b        float64\n",
       "c        float64\n",
       "class      int64\n",
       "dtype: object"
      ]
     },
     "execution_count": 5,
     "metadata": {},
     "output_type": "execute_result"
    }
   ],
   "source": [
    "df.dtypes"
   ]
  },
  {
   "cell_type": "code",
   "execution_count": 6,
   "id": "768c3bae",
   "metadata": {},
   "outputs": [
    {
     "data": {
      "text/html": [
       "<div>\n",
       "<style scoped>\n",
       "    .dataframe tbody tr th:only-of-type {\n",
       "        vertical-align: middle;\n",
       "    }\n",
       "\n",
       "    .dataframe tbody tr th {\n",
       "        vertical-align: top;\n",
       "    }\n",
       "\n",
       "    .dataframe thead th {\n",
       "        text-align: right;\n",
       "    }\n",
       "</style>\n",
       "<table border=\"1\" class=\"dataframe\">\n",
       "  <thead>\n",
       "    <tr style=\"text-align: right;\">\n",
       "      <th></th>\n",
       "      <th>a</th>\n",
       "      <th>b</th>\n",
       "      <th>c</th>\n",
       "      <th>class</th>\n",
       "    </tr>\n",
       "  </thead>\n",
       "  <tbody>\n",
       "    <tr>\n",
       "      <th>count</th>\n",
       "      <td>2500.000000</td>\n",
       "      <td>2500.000000</td>\n",
       "      <td>2500.000000</td>\n",
       "      <td>2500.0000</td>\n",
       "    </tr>\n",
       "    <tr>\n",
       "      <th>mean</th>\n",
       "      <td>-0.008806</td>\n",
       "      <td>-2.985478</td>\n",
       "      <td>6.280229</td>\n",
       "      <td>1.5004</td>\n",
       "    </tr>\n",
       "    <tr>\n",
       "      <th>std</th>\n",
       "      <td>4.824436</td>\n",
       "      <td>3.415397</td>\n",
       "      <td>2.097566</td>\n",
       "      <td>0.5001</td>\n",
       "    </tr>\n",
       "    <tr>\n",
       "      <th>min</th>\n",
       "      <td>-7.393200</td>\n",
       "      <td>-8.952900</td>\n",
       "      <td>2.231800</td>\n",
       "      <td>1.0000</td>\n",
       "    </tr>\n",
       "    <tr>\n",
       "      <th>25%</th>\n",
       "      <td>-4.132175</td>\n",
       "      <td>-5.379600</td>\n",
       "      <td>4.519050</td>\n",
       "      <td>1.0000</td>\n",
       "    </tr>\n",
       "    <tr>\n",
       "      <th>50%</th>\n",
       "      <td>-0.911990</td>\n",
       "      <td>-3.268200</td>\n",
       "      <td>6.645050</td>\n",
       "      <td>2.0000</td>\n",
       "    </tr>\n",
       "    <tr>\n",
       "      <th>75%</th>\n",
       "      <td>4.595575</td>\n",
       "      <td>-0.621515</td>\n",
       "      <td>7.628075</td>\n",
       "      <td>2.0000</td>\n",
       "    </tr>\n",
       "    <tr>\n",
       "      <th>max</th>\n",
       "      <td>9.823100</td>\n",
       "      <td>5.387800</td>\n",
       "      <td>10.693600</td>\n",
       "      <td>2.0000</td>\n",
       "    </tr>\n",
       "  </tbody>\n",
       "</table>\n",
       "</div>"
      ],
      "text/plain": [
       "                 a            b            c      class\n",
       "count  2500.000000  2500.000000  2500.000000  2500.0000\n",
       "mean     -0.008806    -2.985478     6.280229     1.5004\n",
       "std       4.824436     3.415397     2.097566     0.5001\n",
       "min      -7.393200    -8.952900     2.231800     1.0000\n",
       "25%      -4.132175    -5.379600     4.519050     1.0000\n",
       "50%      -0.911990    -3.268200     6.645050     2.0000\n",
       "75%       4.595575    -0.621515     7.628075     2.0000\n",
       "max       9.823100     5.387800    10.693600     2.0000"
      ]
     },
     "execution_count": 6,
     "metadata": {},
     "output_type": "execute_result"
    }
   ],
   "source": [
    "df.describe()"
   ]
  },
  {
   "cell_type": "code",
   "execution_count": 7,
   "id": "cb26c331",
   "metadata": {},
   "outputs": [
    {
     "data": {
      "text/plain": [
       "2    1251\n",
       "1    1249\n",
       "Name: class, dtype: int64"
      ]
     },
     "execution_count": 7,
     "metadata": {},
     "output_type": "execute_result"
    }
   ],
   "source": [
    "df['class'].value_counts() "
   ]
  },
  {
   "cell_type": "code",
   "execution_count": 8,
   "id": "0a75c0f5",
   "metadata": {},
   "outputs": [
    {
     "data": {
      "text/plain": [
       "a        2482\n",
       "b        2470\n",
       "c        2455\n",
       "class       2\n",
       "dtype: int64"
      ]
     },
     "execution_count": 8,
     "metadata": {},
     "output_type": "execute_result"
    }
   ],
   "source": [
    "df.nunique()"
   ]
  },
  {
   "cell_type": "code",
   "execution_count": 9,
   "id": "91590ea8",
   "metadata": {},
   "outputs": [
    {
     "data": {
      "text/plain": [
       "a        0\n",
       "b        0\n",
       "c        0\n",
       "class    0\n",
       "dtype: int64"
      ]
     },
     "execution_count": 9,
     "metadata": {},
     "output_type": "execute_result"
    }
   ],
   "source": [
    "df.isna().sum()"
   ]
  },
  {
   "cell_type": "markdown",
   "id": "6286c83b",
   "metadata": {},
   "source": [
    "Our dataset is clean so we can start making our classifiers"
   ]
  },
  {
   "cell_type": "markdown",
   "id": "562baf8f",
   "metadata": {},
   "source": [
    "### Question 1: Decisition Tree Classifier\n",
    "- A simple DT implementation (10 pts.)\n",
    "    - to make the problem simple, implement a decision tree with depth of 3 (the root index is 0).\n",
    "    - calculate the gini index for each attribute and pick the best attribute for each node.\n",
    "    - calculate the accuracy using accuracy score. \n",
    "- Classification using DecistionTreeClassifier (5 pts)\n",
    "- Evaluation (5 pts)"
   ]
  },
  {
   "cell_type": "code",
   "execution_count": 10,
   "id": "f541c88b",
   "metadata": {},
   "outputs": [],
   "source": [
    "class Node():\n",
    "    def __init__(self, feature_index=None, threshold=None, left=None, right=None, info_gain=None, value=None):\n",
    "        \n",
    "        # for decision node\n",
    "        self.feature_index = feature_index\n",
    "        self.threshold = threshold\n",
    "        self.left = left\n",
    "        self.right = right\n",
    "        self.info_gain = info_gain\n",
    "        \n",
    "        # for leaf node\n",
    "        self.value = value"
   ]
  },
  {
   "cell_type": "code",
   "execution_count": 11,
   "id": "d52940bb",
   "metadata": {},
   "outputs": [],
   "source": [
    "class MyDecisionTreeClassifier():\n",
    "    def __init__(self):\n",
    "         \n",
    "        self.root = None\n",
    "        \n",
    "        # stopping condition at depth of 3\n",
    "        self.max_depth = 3\n",
    "        self.entropy_total = None\n",
    "        \n",
    "    def build_tree(self, X, Y, curr_depth=0):\n",
    "               \n",
    "        num_samples, num_features = np.shape(X)\n",
    "        \n",
    "        # split until stopping conditions are met i.e at depth of 3\n",
    "        if curr_depth <= self.max_depth:\n",
    "            best_split = self.pick_best_attribute_split(X, Y, num_samples, num_features)\n",
    "            if best_split!={}:\n",
    "                \n",
    "                # recursion for left subtree\n",
    "                left_subtree = self.build_tree(best_split[\"X_left\"],best_split[\"Y_left\"], curr_depth+1)\n",
    "\n",
    "                # recursion for right subtree\n",
    "                right_subtree = self.build_tree(best_split[\"X_right\"],best_split[\"Y_right\"], curr_depth+1)\n",
    "\n",
    "                return Node(best_split[\"feature_index\"], best_split[\"threshold\"], left_subtree, right_subtree, best_split[\"info_gain\"]) \n",
    "    \n",
    "        leaf_value = self.get_best_leaf_value(Y)\n",
    "        \n",
    "        return Node(value=leaf_value)\n",
    "    \n",
    "    def pick_best_attribute_split(self, X, Y, num_samples, num_features):\n",
    "        \n",
    "        best_split = {}\n",
    "        max_info_gain = -float(\"inf\")\n",
    "        \n",
    "        for feature_index in range(num_features):\n",
    "            \n",
    "            feature_values = X[:, feature_index]\n",
    "            possible_thresholds = np.unique(feature_values)\n",
    "            \n",
    "            for threshold in possible_thresholds:\n",
    "                \n",
    "                X_left, X_right, y_left, y_right = self.split(X, Y, feature_index, threshold)\n",
    "         \n",
    "                if len(X_left)>0 and len(X_right)>0:\n",
    "                    \n",
    "                    curr_info_gain = self.information_gain(Y, y_left, y_right)\n",
    "        \n",
    "                    if curr_info_gain>max_info_gain:\n",
    "                        best_split[\"feature_index\"] = feature_index\n",
    "                        best_split[\"threshold\"] = threshold\n",
    "                        best_split[\"X_left\"] = X_left\n",
    "                        best_split[\"Y_left\"] = y_left\n",
    "                        best_split[\"X_right\"] = X_right\n",
    "                        best_split[\"Y_right\"] = y_right\n",
    "                        best_split[\"info_gain\"] = curr_info_gain\n",
    "                        max_info_gain = curr_info_gain\n",
    "                        \n",
    "        return best_split\n",
    "    \n",
    "    def split(self, X, Y, feature_index, threshold):\n",
    "        \n",
    "        dataset = np.concatenate((X, Y.reshape(-1,1)), axis=1)\n",
    "        \n",
    "        dataset_left = np.array([row for row in dataset if row[feature_index]<=threshold],dtype=np.int64)\n",
    "        \n",
    "        dataset_right = np.array([row for row in dataset if row[feature_index]>threshold],dtype=np.int64)\n",
    "        \n",
    "        if len(dataset_left)==0:\n",
    "            X_left = dataset_left\n",
    "            y_right = dataset_left\n",
    "        else:\n",
    "            X_left = dataset_left[:, :-1]\n",
    "            y_left = dataset_left[:, -1]\n",
    "            \n",
    "        if len(dataset_right)==0:\n",
    "            X_right = dataset_right\n",
    "            y_right = dataset_right\n",
    "        else:\n",
    "            X_right = dataset_right[:, :-1]\n",
    "            y_right = dataset_right[:, -1]\n",
    "        \n",
    "        return X_left, X_right, y_left, y_right\n",
    "    \n",
    "    def entropy(y):\n",
    "        hist = np.bincount(y)\n",
    "        p = hist / len(y)\n",
    "        entropy = -np.sum([p * np.log(p) for p in p if p > 0]) #log of negative vale is not possible\n",
    "        return entropy\n",
    "    \n",
    "    def information_gain(self, parent, l_child, r_child):\n",
    "        \n",
    "        prob_l = len(l_child) / len(parent)\n",
    "        prob_r = len(r_child) / len(parent)\n",
    "        \n",
    "        gain = self.gini_index(parent) - (prob_l*self.gini_index(l_child) + prob_r*self.gini_index(r_child))\n",
    "        \n",
    "        return gain\n",
    "    \n",
    "    def gini_index(self, y):\n",
    "        n = np.unique(y)\n",
    "        gini = 0\n",
    "        for i in n:\n",
    "            gini += np.square((len(y[y == i]) / len(y)))\n",
    "            \n",
    "        return 1 - gini\n",
    "        \n",
    "    def get_best_leaf_value(self, Y):\n",
    "        classes = np.bincount(Y)\n",
    "        return np.argmax(classes)\n",
    "    \n",
    "    def print_tree(self, tree=None, indent=\" \"):\n",
    "        \n",
    "        if not tree:\n",
    "            tree = self.root\n",
    "\n",
    "        if tree.value is not None:\n",
    "            print(tree.value)\n",
    "\n",
    "        else:\n",
    "            print(\"X_\"+str(tree.feature_index), \"<=\", tree.threshold, \"?\", tree.info_gain)\n",
    "            print(\"%sleft:\" % (indent), end=\"\")\n",
    "            self.print_tree(tree.left, indent + indent)\n",
    "            print(\"%sright:\" % (indent), end=\"\")\n",
    "            self.print_tree(tree.right, indent + indent)\n",
    "    \n",
    "    def fit(self, X, Y):\n",
    "        \n",
    "        self.root = self.build_tree(X, Y)\n",
    "    \n",
    "    def predict(self, X):\n",
    "        \n",
    "        \n",
    "        preditions = [self.make_prediction(x, self.root) for x in X]\n",
    "        return preditions\n",
    "    \n",
    "    def make_prediction(self, x, tree):\n",
    "        \n",
    "        \n",
    "        if tree.value!=None:\n",
    "            return tree.value\n",
    "        feature_val = x[tree.feature_index]\n",
    "        if feature_val<=tree.threshold:\n",
    "            return self.make_prediction(x, tree.left)\n",
    "        else:\n",
    "            return self.make_prediction(x, tree.right)"
   ]
  },
  {
   "cell_type": "code",
   "execution_count": 12,
   "id": "530fc026",
   "metadata": {},
   "outputs": [],
   "source": [
    "from sklearn.model_selection import train_test_split\n",
    "X = df[['a','b','c']].values\n",
    "y = df['class'].values.reshape(-1,1)"
   ]
  },
  {
   "cell_type": "code",
   "execution_count": 13,
   "id": "70c615b2",
   "metadata": {},
   "outputs": [
    {
     "name": "stdout",
     "output_type": "stream",
     "text": [
      "X_2 <= 6.2893 ? 0.3351670315688118\n",
      " left:X_0 <= -4 ? 0.024805246330136033\n",
      "  left:X_0 <= -6 ? 0.0\n",
      "    left:1\n",
      "    right:X_0 <= -5 ? 0.0\n",
      "        left:1\n",
      "        right:1\n",
      "  right:X_0 <= -3 ? 0.0\n",
      "    left:X_1 <= -1 ? 0.0\n",
      "        left:2\n",
      "        right:2\n",
      "    right:X_0 <= -2 ? 0.0\n",
      "        left:2\n",
      "        right:2\n",
      " right:X_0 <= 5 ? 0.11856273917181956\n",
      "  left:X_0 <= 4 ? 0.0019619810612307425\n",
      "    left:X_0 <= -7 ? 0.0\n",
      "        left:1\n",
      "        right:1\n",
      "    right:X_1 <= -6 ? 0.2627160493827161\n",
      "        left:1\n",
      "        right:2\n",
      "  right:X_1 <= -3 ? 0.49454221430162615\n",
      "    left:X_0 <= 6 ? 0.0\n",
      "        left:1\n",
      "        right:1\n",
      "    right:X_0 <= 6 ? 0.0\n",
      "        left:2\n",
      "        right:2\n"
     ]
    }
   ],
   "source": [
    "tree = MyDecisionTreeClassifier()\n",
    "tree.fit(X,y)\n",
    "tree.print_tree()"
   ]
  },
  {
   "cell_type": "code",
   "execution_count": 14,
   "id": "c35897c2",
   "metadata": {},
   "outputs": [
    {
     "data": {
      "text/plain": [
       "99.96000000000001"
      ]
     },
     "execution_count": 14,
     "metadata": {},
     "output_type": "execute_result"
    }
   ],
   "source": [
    "from sklearn.metrics import accuracy_score\n",
    "y_pred = tree.predict(X)\n",
    "accuracy_score(y, y_pred)*100"
   ]
  },
  {
   "cell_type": "markdown",
   "id": "73d5b5ae",
   "metadata": {},
   "source": [
    "# Sklearn"
   ]
  },
  {
   "cell_type": "code",
   "execution_count": 15,
   "id": "682a9e33",
   "metadata": {},
   "outputs": [],
   "source": [
    "from sklearn import tree\n",
    "from sklearn import metrics\n",
    "import sklearn"
   ]
  },
  {
   "cell_type": "code",
   "execution_count": 16,
   "id": "957ec48c",
   "metadata": {},
   "outputs": [],
   "source": [
    "clf1 = DecisionTreeClassifier()\n",
    "\n",
    "clf1 = clf1.fit(X,y)\n",
    "\n",
    "y_pred = clf1.predict(X)"
   ]
  },
  {
   "cell_type": "code",
   "execution_count": 17,
   "id": "03cf98f0",
   "metadata": {},
   "outputs": [
    {
     "name": "stdout",
     "output_type": "stream",
     "text": [
      "Accuracy: 100.0\n"
     ]
    }
   ],
   "source": [
    "print(\"Accuracy:\",metrics.accuracy_score(y, y_pred)*100)"
   ]
  },
  {
   "cell_type": "code",
   "execution_count": 18,
   "id": "d2c4bef4",
   "metadata": {},
   "outputs": [
    {
     "data": {
      "image/png": "[encoded data removed]",
      "text/plain": [
       "<Figure size 432x288 with 1 Axes>"
      ]
     },
     "metadata": {
      "needs_background": "light"
     },
     "output_type": "display_data"
    }
   ],
   "source": [
    " tree.plot_tree(clf1);"
   ]
  },
  {
   "cell_type": "markdown",
   "id": "13653c72",
   "metadata": {},
   "source": [
    "# Evaluation"
   ]
  },
  {
   "cell_type": "markdown",
   "id": "58ecfe94",
   "metadata": {},
   "source": [
    "In both decision tree classifier implementation 3rd column i.e. c x[2] is considered to be the root node with threashold \n",
    "value around 6.29 for both of them.This results shows us high accuracy and is good sign of perfect implementation. Gini impurity is 0.5 in both the case.\n",
    "The only change I see in implementation is that I could not dind a direct connection between gini impurity and entropy. So,\n",
    "in MyDecisionTreeClassifier I have equated the entropy but not used it in my implementation."
   ]
  },
  {
   "cell_type": "markdown",
   "id": "f3d91c40",
   "metadata": {},
   "source": [
    "### Question 2: Random Forest Classifier\n",
    "- A simle RF implementation (10 pts)\n",
    "    - make a bootstrap baggin function to make 3 samples.\n",
    "    - for each sample, run a simple DT from question 1.\n",
    "    - then average the accuracy. \n",
    "- Classification using RandomForestClassifier (5 pts)\n",
    "- Evaluation (5 pts)"
   ]
  },
  {
   "cell_type": "code",
   "execution_count": null,
   "id": "de965d5a",
   "metadata": {},
   "outputs": [],
   "source": []
  },
  {
   "cell_type": "code",
   "execution_count": 19,
   "id": "72460024",
   "metadata": {},
   "outputs": [],
   "source": [
    "from sklearn.model_selection import train_test_split\n",
    "x = df[['a','b','c']].values\n",
    "y = df['class'].values.reshape(-1,1)"
   ]
  },
  {
   "cell_type": "code",
   "execution_count": 20,
   "id": "8999e3e9",
   "metadata": {},
   "outputs": [],
   "source": [
    "import random\n",
    "def generate_sample(X,y,sample_ratio = 1.0):\n",
    "    X_sample = []\n",
    "    y_sample = []\n",
    "    X_len = len(X)\n",
    "    n_sample = X_len * 0.6\n",
    "    while len(X_sample) < n_sample:\n",
    "        index = random.randrange(X_len)\n",
    "        X_sample.append(X[index,:])\n",
    "        y_sample.append(y[index])\n",
    "    return np.array(X_sample,dtype=np.int64),np.array(y_sample,dtype=np.int64)"
   ]
  },
  {
   "cell_type": "code",
   "execution_count": 21,
   "id": "6129c2a1",
   "metadata": {},
   "outputs": [],
   "source": [
    "X_1,y_1 = generate_sample(X,y,.6) #sample set 1\n",
    "X_2,y_2 = generate_sample(X,y,.6) #sample set 2\n",
    "X_3,y_3 = generate_sample(X,y,.6) #sample set 3"
   ]
  },
  {
   "cell_type": "code",
   "execution_count": 22,
   "id": "ccb38c88",
   "metadata": {},
   "outputs": [],
   "source": [
    "tree_1 = MyDecisionTreeClassifier()\n",
    "tree_1.fit(X_1,y_1)\n",
    "# tree_1.print_tree()\n",
    "# Sir you can visualize tree of all 3 sample set if you uncomment the  \n",
    "\n",
    "tree_2 = MyDecisionTreeClassifier()\n",
    "tree_2.fit(X_2,y_2)\n",
    "# tree_2.print_tree()\n",
    "\n",
    "tree_3 = MyDecisionTreeClassifier()\n",
    "tree_3.fit(X_3,y_3)\n",
    "# tree_3.print_tree()"
   ]
  },
  {
   "cell_type": "code",
   "execution_count": 23,
   "id": "534b9f5b",
   "metadata": {},
   "outputs": [
    {
     "name": "stdout",
     "output_type": "stream",
     "text": [
      "Accuracy for first tree: 95.48\n",
      "Accuracy for second tree: 95.48\n",
      "Accuracy for third tree: 95.48\n",
      "Average Accuracy: 95.48\n"
     ]
    }
   ],
   "source": [
    "y_1_pred = tree_1.predict(X) \n",
    "acc_1 = accuracy_score(y, y_1_pred)\n",
    "print(\"Accuracy for first tree:\",acc_1*100)\n",
    "\n",
    "y_2_pred = tree_2.predict(X) \n",
    "acc_2 = accuracy_score(y, y_2_pred)\n",
    "print(\"Accuracy for second tree:\",acc_2*100)\n",
    "\n",
    "y_3_pred = tree_3.predict(X) \n",
    "acc_3 = accuracy_score(y, y_3_pred)\n",
    "print(\"Accuracy for third tree:\",acc_3*100)\n",
    "\n",
    "print(\"Average Accuracy:\",np.mean(np.array([acc_1,acc_2,acc_3]))*100)"
   ]
  },
  {
   "cell_type": "markdown",
   "id": "3264ce67",
   "metadata": {},
   "source": [
    "# Sklearn"
   ]
  },
  {
   "cell_type": "code",
   "execution_count": 24,
   "id": "e994b287",
   "metadata": {},
   "outputs": [],
   "source": [
    "clf2 = RandomForestClassifier(n_estimators=3, max_depth=3,random_state=0) \n",
    "\n",
    "clf2.fit(X, y)\n",
    "y_pred = clf2.predict(X)"
   ]
  },
  {
   "cell_type": "code",
   "execution_count": 25,
   "id": "42c3a9e1",
   "metadata": {},
   "outputs": [
    {
     "name": "stdout",
     "output_type": "stream",
     "text": [
      "Accuracy: 100.0\n"
     ]
    }
   ],
   "source": [
    "print(\"Accuracy:\",metrics.accuracy_score(y, y_pred)*100)"
   ]
  },
  {
   "cell_type": "code",
   "execution_count": 26,
   "id": "938c9dd2",
   "metadata": {},
   "outputs": [],
   "source": [
    "#pip install graphviz"
   ]
  },
  {
   "cell_type": "code",
   "execution_count": 27,
   "id": "30c1e5a1",
   "metadata": {},
   "outputs": [
    {
     "data": {
      "text/plain": [
       "3"
      ]
     },
     "execution_count": 27,
     "metadata": {},
     "output_type": "execute_result"
    }
   ],
   "source": [
    "len(clf2.estimators_)"
   ]
  },
  {
   "cell_type": "code",
   "execution_count": 28,
   "id": "76508bc0",
   "metadata": {},
   "outputs": [
    {
     "data": {
      "image/png": "[encoded data removed]",
      "text/plain": [
       "<Figure size 1080x1080 with 1 Axes>"
      ]
     },
     "metadata": {
      "needs_background": "light"
     },
     "output_type": "display_data"
    },
    {
     "data": {
      "image/png": "[encoded data removed]",
      "text/plain": [
       "<Figure size 1080x1080 with 1 Axes>"
      ]
     },
     "metadata": {
      "needs_background": "light"
     },
     "output_type": "display_data"
    },
    {
     "data": {
      "image/png": "[encoded data removed]",
      "text/plain": [
       "<Figure size 1080x1080 with 1 Axes>"
      ]
     },
     "metadata": {
      "needs_background": "light"
     },
     "output_type": "display_data"
    }
   ],
   "source": [
    "# clf2.estimators_[1]\n",
    "for i in range(len(clf2.estimators_)):\n",
    "        plt.figure(figsize = (15,15))\n",
    "        tree.plot_tree(clf2.estimators_[i] , filled =True)\n",
    "        plt.show()"
   ]
  },
  {
   "cell_type": "markdown",
   "id": "6578c9df",
   "metadata": {},
   "source": [
    "# Evaluation"
   ]
  },
  {
   "cell_type": "markdown",
   "id": "9924a298",
   "metadata": {},
   "source": [
    "In my implementation I have created a generate_samplewhich is a bootstrap baggin function to make 3 samples as instructed \n",
    "question. This fuction works perfectly and we get a hifg accuracy on all the three samples as we have called MyDecisionTreeClassifier\n",
    "from the above implementation. The reason why all the 3 trees give same accuracy because we have not split the data into train\n",
    "and test. The average accuracy is 95.48 which is very good considering we build it from scratch."
   ]
  },
  {
   "cell_type": "markdown",
   "id": "13ecbba8",
   "metadata": {},
   "source": [
    "### Question 3: AdaBoost Classifier\n",
    "- AB implementation (15 pts)\n",
    "- Classification using AdaBoostClassifier (5 pts)\n",
    "- Evaluation (5 pts)"
   ]
  },
  {
   "cell_type": "code",
   "execution_count": 29,
   "id": "3f5b8210",
   "metadata": {},
   "outputs": [],
   "source": [
    "df['sample weight'] = 1/(df.shape[0]) # associated each sample with a sample weight"
   ]
  },
  {
   "cell_type": "code",
   "execution_count": 30,
   "id": "d767d0c0",
   "metadata": {},
   "outputs": [
    {
     "data": {
      "text/html": [
       "<div>\n",
       "<style scoped>\n",
       "    .dataframe tbody tr th:only-of-type {\n",
       "        vertical-align: middle;\n",
       "    }\n",
       "\n",
       "    .dataframe tbody tr th {\n",
       "        vertical-align: top;\n",
       "    }\n",
       "\n",
       "    .dataframe thead th {\n",
       "        text-align: right;\n",
       "    }\n",
       "</style>\n",
       "<table border=\"1\" class=\"dataframe\">\n",
       "  <thead>\n",
       "    <tr style=\"text-align: right;\">\n",
       "      <th></th>\n",
       "      <th>a</th>\n",
       "      <th>b</th>\n",
       "      <th>c</th>\n",
       "      <th>class</th>\n",
       "      <th>sample weight</th>\n",
       "    </tr>\n",
       "  </thead>\n",
       "  <tbody>\n",
       "    <tr>\n",
       "      <th>0</th>\n",
       "      <td>9.4202</td>\n",
       "      <td>-4.3507</td>\n",
       "      <td>10.3764</td>\n",
       "      <td>1</td>\n",
       "      <td>0.0004</td>\n",
       "    </tr>\n",
       "    <tr>\n",
       "      <th>1</th>\n",
       "      <td>9.7044</td>\n",
       "      <td>-4.4601</td>\n",
       "      <td>10.6803</td>\n",
       "      <td>1</td>\n",
       "      <td>0.0004</td>\n",
       "    </tr>\n",
       "    <tr>\n",
       "      <th>2</th>\n",
       "      <td>9.8075</td>\n",
       "      <td>-4.0894</td>\n",
       "      <td>10.6259</td>\n",
       "      <td>1</td>\n",
       "      <td>0.0004</td>\n",
       "    </tr>\n",
       "    <tr>\n",
       "      <th>3</th>\n",
       "      <td>9.2771</td>\n",
       "      <td>-4.0349</td>\n",
       "      <td>10.1166</td>\n",
       "      <td>1</td>\n",
       "      <td>0.0004</td>\n",
       "    </tr>\n",
       "    <tr>\n",
       "      <th>4</th>\n",
       "      <td>9.6447</td>\n",
       "      <td>-3.5968</td>\n",
       "      <td>10.2936</td>\n",
       "      <td>1</td>\n",
       "      <td>0.0004</td>\n",
       "    </tr>\n",
       "  </tbody>\n",
       "</table>\n",
       "</div>"
      ],
      "text/plain": [
       "        a       b        c  class  sample weight\n",
       "0  9.4202 -4.3507  10.3764      1         0.0004\n",
       "1  9.7044 -4.4601  10.6803      1         0.0004\n",
       "2  9.8075 -4.0894  10.6259      1         0.0004\n",
       "3  9.2771 -4.0349  10.1166      1         0.0004\n",
       "4  9.6447 -3.5968  10.2936      1         0.0004"
      ]
     },
     "execution_count": 30,
     "metadata": {},
     "output_type": "execute_result"
    }
   ],
   "source": [
    "df.head()"
   ]
  },
  {
   "cell_type": "code",
   "execution_count": 31,
   "id": "d845b2f1",
   "metadata": {},
   "outputs": [],
   "source": [
    "random.seed(10)\n",
    "df1 = df.sample(len(df), replace = True, weights = df['sample weight'])"
   ]
  },
  {
   "cell_type": "code",
   "execution_count": 32,
   "id": "eda9b19b",
   "metadata": {},
   "outputs": [
    {
     "data": {
      "text/html": [
       "<div>\n",
       "<style scoped>\n",
       "    .dataframe tbody tr th:only-of-type {\n",
       "        vertical-align: middle;\n",
       "    }\n",
       "\n",
       "    .dataframe tbody tr th {\n",
       "        vertical-align: top;\n",
       "    }\n",
       "\n",
       "    .dataframe thead th {\n",
       "        text-align: right;\n",
       "    }\n",
       "</style>\n",
       "<table border=\"1\" class=\"dataframe\">\n",
       "  <thead>\n",
       "    <tr style=\"text-align: right;\">\n",
       "      <th></th>\n",
       "      <th>a</th>\n",
       "      <th>b</th>\n",
       "      <th>c</th>\n",
       "      <th>class</th>\n",
       "      <th>sample weight</th>\n",
       "    </tr>\n",
       "  </thead>\n",
       "  <tbody>\n",
       "    <tr>\n",
       "      <th>2327</th>\n",
       "      <td>-3.03540</td>\n",
       "      <td>-1.0889</td>\n",
       "      <td>3.2248</td>\n",
       "      <td>2</td>\n",
       "      <td>0.0004</td>\n",
       "    </tr>\n",
       "    <tr>\n",
       "      <th>1184</th>\n",
       "      <td>-4.68970</td>\n",
       "      <td>4.5872</td>\n",
       "      <td>6.5602</td>\n",
       "      <td>1</td>\n",
       "      <td>0.0004</td>\n",
       "    </tr>\n",
       "    <tr>\n",
       "      <th>2144</th>\n",
       "      <td>-1.75300</td>\n",
       "      <td>-2.5986</td>\n",
       "      <td>3.1346</td>\n",
       "      <td>2</td>\n",
       "      <td>0.0004</td>\n",
       "    </tr>\n",
       "    <tr>\n",
       "      <th>1906</th>\n",
       "      <td>0.45005</td>\n",
       "      <td>-4.2945</td>\n",
       "      <td>4.3180</td>\n",
       "      <td>2</td>\n",
       "      <td>0.0004</td>\n",
       "    </tr>\n",
       "    <tr>\n",
       "      <th>2115</th>\n",
       "      <td>-1.25690</td>\n",
       "      <td>-3.3204</td>\n",
       "      <td>3.5503</td>\n",
       "      <td>2</td>\n",
       "      <td>0.0004</td>\n",
       "    </tr>\n",
       "  </tbody>\n",
       "</table>\n",
       "</div>"
      ],
      "text/plain": [
       "            a       b       c  class  sample weight\n",
       "2327 -3.03540 -1.0889  3.2248      2         0.0004\n",
       "1184 -4.68970  4.5872  6.5602      1         0.0004\n",
       "2144 -1.75300 -2.5986  3.1346      2         0.0004\n",
       "1906  0.45005 -4.2945  4.3180      2         0.0004\n",
       "2115 -1.25690 -3.3204  3.5503      2         0.0004"
      ]
     },
     "execution_count": 32,
     "metadata": {},
     "output_type": "execute_result"
    }
   ],
   "source": [
    "df1.head()"
   ]
  },
  {
   "cell_type": "code",
   "execution_count": 33,
   "id": "6816af42",
   "metadata": {},
   "outputs": [],
   "source": [
    "from sklearn.model_selection import train_test_split\n",
    "x = df[['a','b','c']]\n",
    "y = df['class']"
   ]
  },
  {
   "cell_type": "code",
   "execution_count": 34,
   "id": "d8a849a7",
   "metadata": {},
   "outputs": [],
   "source": [
    "clf_gini = DecisionTreeClassifier(criterion = \"gini\", random_state = 100, max_depth=1)\n",
    "clf3 = clf_gini.fit(x, y)"
   ]
  },
  {
   "cell_type": "code",
   "execution_count": 35,
   "id": "0f71c1c5",
   "metadata": {},
   "outputs": [
    {
     "data": {
      "text/plain": [
       "[Text(167.4, 163.07999999999998, 'X[2] <= 6.29\\ngini = 0.5\\nsamples = 2500\\nvalue = [1249, 1251]'),\n",
       " Text(83.7, 54.360000000000014, 'gini = 0.025\\nsamples = 1035\\nvalue = [13, 1022]'),\n",
       " Text(251.10000000000002, 54.360000000000014, 'gini = 0.264\\nsamples = 1465\\nvalue = [1236, 229]')]"
      ]
     },
     "execution_count": 35,
     "metadata": {},
     "output_type": "execute_result"
    },
    {
     "data": {
      "image/png": "[encoded data removed]",
      "text/plain": [
       "<Figure size 432x288 with 1 Axes>"
      ]
     },
     "metadata": {
      "needs_background": "light"
     },
     "output_type": "display_data"
    }
   ],
   "source": [
    "tree.plot_tree(clf3)"
   ]
  },
  {
   "cell_type": "code",
   "execution_count": 36,
   "id": "dbc45f79",
   "metadata": {},
   "outputs": [],
   "source": [
    "y_pred = clf_gini.predict(X)"
   ]
  },
  {
   "cell_type": "code",
   "execution_count": 37,
   "id": "80f3fe35",
   "metadata": {},
   "outputs": [],
   "source": [
    "df['pred1'] = y_pred"
   ]
  },
  {
   "cell_type": "code",
   "execution_count": 38,
   "id": "614f5ea9",
   "metadata": {},
   "outputs": [
    {
     "data": {
      "text/html": [
       "<div>\n",
       "<style scoped>\n",
       "    .dataframe tbody tr th:only-of-type {\n",
       "        vertical-align: middle;\n",
       "    }\n",
       "\n",
       "    .dataframe tbody tr th {\n",
       "        vertical-align: top;\n",
       "    }\n",
       "\n",
       "    .dataframe thead th {\n",
       "        text-align: right;\n",
       "    }\n",
       "</style>\n",
       "<table border=\"1\" class=\"dataframe\">\n",
       "  <thead>\n",
       "    <tr style=\"text-align: right;\">\n",
       "      <th></th>\n",
       "      <th>a</th>\n",
       "      <th>b</th>\n",
       "      <th>c</th>\n",
       "      <th>class</th>\n",
       "      <th>sample weight</th>\n",
       "      <th>pred1</th>\n",
       "    </tr>\n",
       "  </thead>\n",
       "  <tbody>\n",
       "    <tr>\n",
       "      <th>0</th>\n",
       "      <td>9.4202</td>\n",
       "      <td>-4.35070</td>\n",
       "      <td>10.3764</td>\n",
       "      <td>1</td>\n",
       "      <td>0.0004</td>\n",
       "      <td>1</td>\n",
       "    </tr>\n",
       "    <tr>\n",
       "      <th>1</th>\n",
       "      <td>9.7044</td>\n",
       "      <td>-4.46010</td>\n",
       "      <td>10.6803</td>\n",
       "      <td>1</td>\n",
       "      <td>0.0004</td>\n",
       "      <td>1</td>\n",
       "    </tr>\n",
       "    <tr>\n",
       "      <th>2</th>\n",
       "      <td>9.8075</td>\n",
       "      <td>-4.08940</td>\n",
       "      <td>10.6259</td>\n",
       "      <td>1</td>\n",
       "      <td>0.0004</td>\n",
       "      <td>1</td>\n",
       "    </tr>\n",
       "    <tr>\n",
       "      <th>3</th>\n",
       "      <td>9.2771</td>\n",
       "      <td>-4.03490</td>\n",
       "      <td>10.1166</td>\n",
       "      <td>1</td>\n",
       "      <td>0.0004</td>\n",
       "      <td>1</td>\n",
       "    </tr>\n",
       "    <tr>\n",
       "      <th>4</th>\n",
       "      <td>9.6447</td>\n",
       "      <td>-3.59680</td>\n",
       "      <td>10.2936</td>\n",
       "      <td>1</td>\n",
       "      <td>0.0004</td>\n",
       "      <td>1</td>\n",
       "    </tr>\n",
       "    <tr>\n",
       "      <th>...</th>\n",
       "      <td>...</td>\n",
       "      <td>...</td>\n",
       "      <td>...</td>\n",
       "      <td>...</td>\n",
       "      <td>...</td>\n",
       "      <td>...</td>\n",
       "    </tr>\n",
       "    <tr>\n",
       "      <th>2495</th>\n",
       "      <td>-2.3611</td>\n",
       "      <td>0.25915</td>\n",
       "      <td>2.3753</td>\n",
       "      <td>2</td>\n",
       "      <td>0.0004</td>\n",
       "      <td>2</td>\n",
       "    </tr>\n",
       "    <tr>\n",
       "      <th>2496</th>\n",
       "      <td>-2.6091</td>\n",
       "      <td>0.29695</td>\n",
       "      <td>2.6259</td>\n",
       "      <td>2</td>\n",
       "      <td>0.0004</td>\n",
       "      <td>2</td>\n",
       "    </tr>\n",
       "    <tr>\n",
       "      <th>2497</th>\n",
       "      <td>-2.7131</td>\n",
       "      <td>0.24234</td>\n",
       "      <td>2.7239</td>\n",
       "      <td>2</td>\n",
       "      <td>0.0004</td>\n",
       "      <td>2</td>\n",
       "    </tr>\n",
       "    <tr>\n",
       "      <th>2498</th>\n",
       "      <td>-3.0334</td>\n",
       "      <td>0.79411</td>\n",
       "      <td>3.1356</td>\n",
       "      <td>2</td>\n",
       "      <td>0.0004</td>\n",
       "      <td>2</td>\n",
       "    </tr>\n",
       "    <tr>\n",
       "      <th>2499</th>\n",
       "      <td>-2.4726</td>\n",
       "      <td>0.54870</td>\n",
       "      <td>2.5327</td>\n",
       "      <td>2</td>\n",
       "      <td>0.0004</td>\n",
       "      <td>2</td>\n",
       "    </tr>\n",
       "  </tbody>\n",
       "</table>\n",
       "<p>2500 rows × 6 columns</p>\n",
       "</div>"
      ],
      "text/plain": [
       "           a        b        c  class  sample weight  pred1\n",
       "0     9.4202 -4.35070  10.3764      1         0.0004      1\n",
       "1     9.7044 -4.46010  10.6803      1         0.0004      1\n",
       "2     9.8075 -4.08940  10.6259      1         0.0004      1\n",
       "3     9.2771 -4.03490  10.1166      1         0.0004      1\n",
       "4     9.6447 -3.59680  10.2936      1         0.0004      1\n",
       "...      ...      ...      ...    ...            ...    ...\n",
       "2495 -2.3611  0.25915   2.3753      2         0.0004      2\n",
       "2496 -2.6091  0.29695   2.6259      2         0.0004      2\n",
       "2497 -2.7131  0.24234   2.7239      2         0.0004      2\n",
       "2498 -3.0334  0.79411   3.1356      2         0.0004      2\n",
       "2499 -2.4726  0.54870   2.5327      2         0.0004      2\n",
       "\n",
       "[2500 rows x 6 columns]"
      ]
     },
     "execution_count": 38,
     "metadata": {},
     "output_type": "execute_result"
    }
   ],
   "source": [
    "df"
   ]
  },
  {
   "cell_type": "code",
   "execution_count": 39,
   "id": "14c3292c",
   "metadata": {},
   "outputs": [],
   "source": [
    "df.loc[df['class'] != df.pred1, 'misclassified'] = 1\n",
    "df.loc[df['class'] == df.pred1, 'misclassified'] = 0"
   ]
  },
  {
   "cell_type": "code",
   "execution_count": 40,
   "id": "6573218c",
   "metadata": {},
   "outputs": [
    {
     "data": {
      "text/plain": [
       "0.09679999999999964"
      ]
     },
     "execution_count": 40,
     "metadata": {},
     "output_type": "execute_result"
    }
   ],
   "source": [
    "e1 = sum(df['misclassified'] * df['sample weight'])\n",
    "e1"
   ]
  },
  {
   "cell_type": "code",
   "execution_count": 41,
   "id": "1b1800e0",
   "metadata": {},
   "outputs": [
    {
     "data": {
      "text/plain": [
       "1.1166485092764624"
      ]
     },
     "execution_count": 41,
     "metadata": {},
     "output_type": "execute_result"
    }
   ],
   "source": [
    "alpha1 = 0.5*np.log((1-e1)/e1)\n",
    "alpha1"
   ]
  },
  {
   "cell_type": "code",
   "execution_count": 42,
   "id": "2b10d855",
   "metadata": {},
   "outputs": [],
   "source": [
    "new_weight = df['sample weight']*np.exp(-1*alpha1*df['class']*df['pred1'])"
   ]
  },
  {
   "cell_type": "code",
   "execution_count": 43,
   "id": "d609d791",
   "metadata": {},
   "outputs": [],
   "source": [
    "z = sum(new_weight)\n",
    "normalized_weight = new_weight/sum(new_weight)"
   ]
  },
  {
   "cell_type": "code",
   "execution_count": 44,
   "id": "61cf2053",
   "metadata": {},
   "outputs": [],
   "source": [
    "df['prob2'] = round(normalized_weight,4)"
   ]
  },
  {
   "cell_type": "code",
   "execution_count": 45,
   "id": "715fff82",
   "metadata": {},
   "outputs": [
    {
     "data": {
      "text/html": [
       "<div>\n",
       "<style scoped>\n",
       "    .dataframe tbody tr th:only-of-type {\n",
       "        vertical-align: middle;\n",
       "    }\n",
       "\n",
       "    .dataframe tbody tr th {\n",
       "        vertical-align: top;\n",
       "    }\n",
       "\n",
       "    .dataframe thead th {\n",
       "        text-align: right;\n",
       "    }\n",
       "</style>\n",
       "<table border=\"1\" class=\"dataframe\">\n",
       "  <thead>\n",
       "    <tr style=\"text-align: right;\">\n",
       "      <th></th>\n",
       "      <th>a</th>\n",
       "      <th>b</th>\n",
       "      <th>c</th>\n",
       "      <th>class</th>\n",
       "      <th>sample weight</th>\n",
       "      <th>pred1</th>\n",
       "      <th>misclassified</th>\n",
       "      <th>prob2</th>\n",
       "    </tr>\n",
       "  </thead>\n",
       "  <tbody>\n",
       "    <tr>\n",
       "      <th>0</th>\n",
       "      <td>9.4202</td>\n",
       "      <td>-4.35070</td>\n",
       "      <td>10.3764</td>\n",
       "      <td>1</td>\n",
       "      <td>0.0004</td>\n",
       "      <td>1</td>\n",
       "      <td>0.0</td>\n",
       "      <td>0.0007</td>\n",
       "    </tr>\n",
       "    <tr>\n",
       "      <th>1</th>\n",
       "      <td>9.7044</td>\n",
       "      <td>-4.46010</td>\n",
       "      <td>10.6803</td>\n",
       "      <td>1</td>\n",
       "      <td>0.0004</td>\n",
       "      <td>1</td>\n",
       "      <td>0.0</td>\n",
       "      <td>0.0007</td>\n",
       "    </tr>\n",
       "    <tr>\n",
       "      <th>2</th>\n",
       "      <td>9.8075</td>\n",
       "      <td>-4.08940</td>\n",
       "      <td>10.6259</td>\n",
       "      <td>1</td>\n",
       "      <td>0.0004</td>\n",
       "      <td>1</td>\n",
       "      <td>0.0</td>\n",
       "      <td>0.0007</td>\n",
       "    </tr>\n",
       "    <tr>\n",
       "      <th>3</th>\n",
       "      <td>9.2771</td>\n",
       "      <td>-4.03490</td>\n",
       "      <td>10.1166</td>\n",
       "      <td>1</td>\n",
       "      <td>0.0004</td>\n",
       "      <td>1</td>\n",
       "      <td>0.0</td>\n",
       "      <td>0.0007</td>\n",
       "    </tr>\n",
       "    <tr>\n",
       "      <th>4</th>\n",
       "      <td>9.6447</td>\n",
       "      <td>-3.59680</td>\n",
       "      <td>10.2936</td>\n",
       "      <td>1</td>\n",
       "      <td>0.0004</td>\n",
       "      <td>1</td>\n",
       "      <td>0.0</td>\n",
       "      <td>0.0007</td>\n",
       "    </tr>\n",
       "    <tr>\n",
       "      <th>...</th>\n",
       "      <td>...</td>\n",
       "      <td>...</td>\n",
       "      <td>...</td>\n",
       "      <td>...</td>\n",
       "      <td>...</td>\n",
       "      <td>...</td>\n",
       "      <td>...</td>\n",
       "      <td>...</td>\n",
       "    </tr>\n",
       "    <tr>\n",
       "      <th>2495</th>\n",
       "      <td>-2.3611</td>\n",
       "      <td>0.25915</td>\n",
       "      <td>2.3753</td>\n",
       "      <td>2</td>\n",
       "      <td>0.0004</td>\n",
       "      <td>2</td>\n",
       "      <td>0.0</td>\n",
       "      <td>0.0000</td>\n",
       "    </tr>\n",
       "    <tr>\n",
       "      <th>2496</th>\n",
       "      <td>-2.6091</td>\n",
       "      <td>0.29695</td>\n",
       "      <td>2.6259</td>\n",
       "      <td>2</td>\n",
       "      <td>0.0004</td>\n",
       "      <td>2</td>\n",
       "      <td>0.0</td>\n",
       "      <td>0.0000</td>\n",
       "    </tr>\n",
       "    <tr>\n",
       "      <th>2497</th>\n",
       "      <td>-2.7131</td>\n",
       "      <td>0.24234</td>\n",
       "      <td>2.7239</td>\n",
       "      <td>2</td>\n",
       "      <td>0.0004</td>\n",
       "      <td>2</td>\n",
       "      <td>0.0</td>\n",
       "      <td>0.0000</td>\n",
       "    </tr>\n",
       "    <tr>\n",
       "      <th>2498</th>\n",
       "      <td>-3.0334</td>\n",
       "      <td>0.79411</td>\n",
       "      <td>3.1356</td>\n",
       "      <td>2</td>\n",
       "      <td>0.0004</td>\n",
       "      <td>2</td>\n",
       "      <td>0.0</td>\n",
       "      <td>0.0000</td>\n",
       "    </tr>\n",
       "    <tr>\n",
       "      <th>2499</th>\n",
       "      <td>-2.4726</td>\n",
       "      <td>0.54870</td>\n",
       "      <td>2.5327</td>\n",
       "      <td>2</td>\n",
       "      <td>0.0004</td>\n",
       "      <td>2</td>\n",
       "      <td>0.0</td>\n",
       "      <td>0.0000</td>\n",
       "    </tr>\n",
       "  </tbody>\n",
       "</table>\n",
       "<p>2500 rows × 8 columns</p>\n",
       "</div>"
      ],
      "text/plain": [
       "           a        b        c  class  sample weight  pred1  misclassified  \\\n",
       "0     9.4202 -4.35070  10.3764      1         0.0004      1            0.0   \n",
       "1     9.7044 -4.46010  10.6803      1         0.0004      1            0.0   \n",
       "2     9.8075 -4.08940  10.6259      1         0.0004      1            0.0   \n",
       "3     9.2771 -4.03490  10.1166      1         0.0004      1            0.0   \n",
       "4     9.6447 -3.59680  10.2936      1         0.0004      1            0.0   \n",
       "...      ...      ...      ...    ...            ...    ...            ...   \n",
       "2495 -2.3611  0.25915   2.3753      2         0.0004      2            0.0   \n",
       "2496 -2.6091  0.29695   2.6259      2         0.0004      2            0.0   \n",
       "2497 -2.7131  0.24234   2.7239      2         0.0004      2            0.0   \n",
       "2498 -3.0334  0.79411   3.1356      2         0.0004      2            0.0   \n",
       "2499 -2.4726  0.54870   2.5327      2         0.0004      2            0.0   \n",
       "\n",
       "       prob2  \n",
       "0     0.0007  \n",
       "1     0.0007  \n",
       "2     0.0007  \n",
       "3     0.0007  \n",
       "4     0.0007  \n",
       "...      ...  \n",
       "2495  0.0000  \n",
       "2496  0.0000  \n",
       "2497  0.0000  \n",
       "2498  0.0000  \n",
       "2499  0.0000  \n",
       "\n",
       "[2500 rows x 8 columns]"
      ]
     },
     "execution_count": 45,
     "metadata": {},
     "output_type": "execute_result"
    }
   ],
   "source": [
    "df"
   ]
  },
  {
   "cell_type": "code",
   "execution_count": 46,
   "id": "0e58e75f",
   "metadata": {},
   "outputs": [
    {
     "data": {
      "text/html": [
       "<div>\n",
       "<style scoped>\n",
       "    .dataframe tbody tr th:only-of-type {\n",
       "        vertical-align: middle;\n",
       "    }\n",
       "\n",
       "    .dataframe tbody tr th {\n",
       "        vertical-align: top;\n",
       "    }\n",
       "\n",
       "    .dataframe thead th {\n",
       "        text-align: right;\n",
       "    }\n",
       "</style>\n",
       "<table border=\"1\" class=\"dataframe\">\n",
       "  <thead>\n",
       "    <tr style=\"text-align: right;\">\n",
       "      <th></th>\n",
       "      <th>a</th>\n",
       "      <th>b</th>\n",
       "      <th>c</th>\n",
       "      <th>class</th>\n",
       "      <th>sample weight</th>\n",
       "      <th>pred1</th>\n",
       "      <th>misclassified</th>\n",
       "      <th>prob2</th>\n",
       "    </tr>\n",
       "  </thead>\n",
       "  <tbody>\n",
       "    <tr>\n",
       "      <th>776</th>\n",
       "      <td>-6.01850</td>\n",
       "      <td>-3.4243</td>\n",
       "      <td>6.9245</td>\n",
       "      <td>1</td>\n",
       "      <td>0.0004</td>\n",
       "      <td>1</td>\n",
       "      <td>0.0</td>\n",
       "      <td>0.0007</td>\n",
       "    </tr>\n",
       "    <tr>\n",
       "      <th>528</th>\n",
       "      <td>-2.76670</td>\n",
       "      <td>-7.0766</td>\n",
       "      <td>7.5982</td>\n",
       "      <td>1</td>\n",
       "      <td>0.0004</td>\n",
       "      <td>1</td>\n",
       "      <td>0.0</td>\n",
       "      <td>0.0007</td>\n",
       "    </tr>\n",
       "    <tr>\n",
       "      <th>416</th>\n",
       "      <td>-0.30538</td>\n",
       "      <td>-8.2808</td>\n",
       "      <td>8.2864</td>\n",
       "      <td>1</td>\n",
       "      <td>0.0004</td>\n",
       "      <td>1</td>\n",
       "      <td>0.0</td>\n",
       "      <td>0.0007</td>\n",
       "    </tr>\n",
       "    <tr>\n",
       "      <th>344</th>\n",
       "      <td>2.03630</td>\n",
       "      <td>-8.4298</td>\n",
       "      <td>8.6723</td>\n",
       "      <td>1</td>\n",
       "      <td>0.0004</td>\n",
       "      <td>1</td>\n",
       "      <td>0.0</td>\n",
       "      <td>0.0007</td>\n",
       "    </tr>\n",
       "    <tr>\n",
       "      <th>412</th>\n",
       "      <td>0.44994</td>\n",
       "      <td>-8.6344</td>\n",
       "      <td>8.6461</td>\n",
       "      <td>1</td>\n",
       "      <td>0.0004</td>\n",
       "      <td>1</td>\n",
       "      <td>0.0</td>\n",
       "      <td>0.0007</td>\n",
       "    </tr>\n",
       "  </tbody>\n",
       "</table>\n",
       "</div>"
      ],
      "text/plain": [
       "           a       b       c  class  sample weight  pred1  misclassified  \\\n",
       "776 -6.01850 -3.4243  6.9245      1         0.0004      1            0.0   \n",
       "528 -2.76670 -7.0766  7.5982      1         0.0004      1            0.0   \n",
       "416 -0.30538 -8.2808  8.2864      1         0.0004      1            0.0   \n",
       "344  2.03630 -8.4298  8.6723      1         0.0004      1            0.0   \n",
       "412  0.44994 -8.6344  8.6461      1         0.0004      1            0.0   \n",
       "\n",
       "      prob2  \n",
       "776  0.0007  \n",
       "528  0.0007  \n",
       "416  0.0007  \n",
       "344  0.0007  \n",
       "412  0.0007  "
      ]
     },
     "execution_count": 46,
     "metadata": {},
     "output_type": "execute_result"
    }
   ],
   "source": [
    "#round 2\n",
    "random.seed(20)\n",
    "df2 = df.iloc[:,0:5]\n",
    "df2 = df.sample(len(df), replace = True, weights = df['prob2'])\n",
    "df2.head()"
   ]
  },
  {
   "cell_type": "code",
   "execution_count": 47,
   "id": "acf5f73a",
   "metadata": {},
   "outputs": [],
   "source": [
    "clf_gini = DecisionTreeClassifier(criterion = \"gini\", random_state = 100, max_depth=1)\n",
    "clf = clf_gini.fit(X, y)"
   ]
  },
  {
   "cell_type": "code",
   "execution_count": 48,
   "id": "be2cff3c",
   "metadata": {},
   "outputs": [],
   "source": [
    "y_pred = clf_gini.predict(df.iloc[0:len(df),0:3])\n",
    "#adding a column pred2 after the second round of boosting\n",
    "df['pred2'] = y_pred"
   ]
  },
  {
   "cell_type": "code",
   "execution_count": 49,
   "id": "351a788c",
   "metadata": {},
   "outputs": [],
   "source": [
    "df.loc[df['class'] != df.pred2, 'misclassified2'] = 1\n",
    "df.loc[df['class'] == df.pred2, 'misclassified2'] = 0\n"
   ]
  },
  {
   "cell_type": "code",
   "execution_count": 50,
   "id": "fb995440",
   "metadata": {},
   "outputs": [
    {
     "data": {
      "text/plain": [
       "0.04839999999999982"
      ]
     },
     "execution_count": 50,
     "metadata": {},
     "output_type": "execute_result"
    }
   ],
   "source": [
    "e2 = sum(df['misclassified2'] * df['prob2'])\n",
    "e2"
   ]
  },
  {
   "cell_type": "code",
   "execution_count": 51,
   "id": "f204410e",
   "metadata": {},
   "outputs": [
    {
     "data": {
      "text/plain": [
       "1.4893224823531104"
      ]
     },
     "execution_count": 51,
     "metadata": {},
     "output_type": "execute_result"
    }
   ],
   "source": [
    "alpha2 = 0.5*np.log((1-e2)/e2)\n",
    "alpha2"
   ]
  },
  {
   "cell_type": "code",
   "execution_count": 52,
   "id": "a9cbb7b0",
   "metadata": {},
   "outputs": [],
   "source": [
    "new_weight = df['prob2']*np.exp(-1*alpha2*df['class']*df['prob2'])\n",
    "z = sum(new_weight)\n",
    "normalized_weight = new_weight/sum(new_weight)"
   ]
  },
  {
   "cell_type": "code",
   "execution_count": 53,
   "id": "595b8408",
   "metadata": {},
   "outputs": [],
   "source": [
    "df['prob3'] = round(normalized_weight,3)"
   ]
  },
  {
   "cell_type": "code",
   "execution_count": 54,
   "id": "46fdf572",
   "metadata": {},
   "outputs": [],
   "source": [
    "random.seed(30)\n",
    "df3 = df.sample(len(df), replace = True, weights = df['prob3'])\n",
    "df3 = df3.iloc[:,0:5]\n",
    "# X_train = df3.iloc[0:len(iris),0:4]\n",
    "# y_train = df3.iloc[0:len(iris),4]\n",
    "\n",
    "clf_gini = DecisionTreeClassifier(criterion = \"gini\", random_state = 100, max_depth=1)\n",
    "clf = clf_gini.fit(x, y)\n",
    "\n",
    "#adding a column pred3 after the third round of boosting\n",
    "y_pred = clf_gini.predict(df.iloc[0:len(df),0:3])\n",
    "df['pred3'] = y_pred"
   ]
  },
  {
   "cell_type": "code",
   "execution_count": 55,
   "id": "efc74917",
   "metadata": {},
   "outputs": [
    {
     "data": {
      "text/html": [
       "<div>\n",
       "<style scoped>\n",
       "    .dataframe tbody tr th:only-of-type {\n",
       "        vertical-align: middle;\n",
       "    }\n",
       "\n",
       "    .dataframe tbody tr th {\n",
       "        vertical-align: top;\n",
       "    }\n",
       "\n",
       "    .dataframe thead th {\n",
       "        text-align: right;\n",
       "    }\n",
       "</style>\n",
       "<table border=\"1\" class=\"dataframe\">\n",
       "  <thead>\n",
       "    <tr style=\"text-align: right;\">\n",
       "      <th></th>\n",
       "      <th>a</th>\n",
       "      <th>b</th>\n",
       "      <th>c</th>\n",
       "      <th>class</th>\n",
       "      <th>sample weight</th>\n",
       "      <th>pred1</th>\n",
       "      <th>misclassified</th>\n",
       "      <th>prob2</th>\n",
       "      <th>pred2</th>\n",
       "      <th>misclassified2</th>\n",
       "      <th>prob3</th>\n",
       "      <th>pred3</th>\n",
       "    </tr>\n",
       "  </thead>\n",
       "  <tbody>\n",
       "    <tr>\n",
       "      <th>0</th>\n",
       "      <td>9.4202</td>\n",
       "      <td>-4.35070</td>\n",
       "      <td>10.3764</td>\n",
       "      <td>1</td>\n",
       "      <td>0.0004</td>\n",
       "      <td>1</td>\n",
       "      <td>0.0</td>\n",
       "      <td>0.0007</td>\n",
       "      <td>1</td>\n",
       "      <td>0.0</td>\n",
       "      <td>0.001</td>\n",
       "      <td>1</td>\n",
       "    </tr>\n",
       "    <tr>\n",
       "      <th>1</th>\n",
       "      <td>9.7044</td>\n",
       "      <td>-4.46010</td>\n",
       "      <td>10.6803</td>\n",
       "      <td>1</td>\n",
       "      <td>0.0004</td>\n",
       "      <td>1</td>\n",
       "      <td>0.0</td>\n",
       "      <td>0.0007</td>\n",
       "      <td>1</td>\n",
       "      <td>0.0</td>\n",
       "      <td>0.001</td>\n",
       "      <td>1</td>\n",
       "    </tr>\n",
       "    <tr>\n",
       "      <th>2</th>\n",
       "      <td>9.8075</td>\n",
       "      <td>-4.08940</td>\n",
       "      <td>10.6259</td>\n",
       "      <td>1</td>\n",
       "      <td>0.0004</td>\n",
       "      <td>1</td>\n",
       "      <td>0.0</td>\n",
       "      <td>0.0007</td>\n",
       "      <td>1</td>\n",
       "      <td>0.0</td>\n",
       "      <td>0.001</td>\n",
       "      <td>1</td>\n",
       "    </tr>\n",
       "    <tr>\n",
       "      <th>3</th>\n",
       "      <td>9.2771</td>\n",
       "      <td>-4.03490</td>\n",
       "      <td>10.1166</td>\n",
       "      <td>1</td>\n",
       "      <td>0.0004</td>\n",
       "      <td>1</td>\n",
       "      <td>0.0</td>\n",
       "      <td>0.0007</td>\n",
       "      <td>1</td>\n",
       "      <td>0.0</td>\n",
       "      <td>0.001</td>\n",
       "      <td>1</td>\n",
       "    </tr>\n",
       "    <tr>\n",
       "      <th>4</th>\n",
       "      <td>9.6447</td>\n",
       "      <td>-3.59680</td>\n",
       "      <td>10.2936</td>\n",
       "      <td>1</td>\n",
       "      <td>0.0004</td>\n",
       "      <td>1</td>\n",
       "      <td>0.0</td>\n",
       "      <td>0.0007</td>\n",
       "      <td>1</td>\n",
       "      <td>0.0</td>\n",
       "      <td>0.001</td>\n",
       "      <td>1</td>\n",
       "    </tr>\n",
       "    <tr>\n",
       "      <th>...</th>\n",
       "      <td>...</td>\n",
       "      <td>...</td>\n",
       "      <td>...</td>\n",
       "      <td>...</td>\n",
       "      <td>...</td>\n",
       "      <td>...</td>\n",
       "      <td>...</td>\n",
       "      <td>...</td>\n",
       "      <td>...</td>\n",
       "      <td>...</td>\n",
       "      <td>...</td>\n",
       "      <td>...</td>\n",
       "    </tr>\n",
       "    <tr>\n",
       "      <th>2495</th>\n",
       "      <td>-2.3611</td>\n",
       "      <td>0.25915</td>\n",
       "      <td>2.3753</td>\n",
       "      <td>2</td>\n",
       "      <td>0.0004</td>\n",
       "      <td>2</td>\n",
       "      <td>0.0</td>\n",
       "      <td>0.0000</td>\n",
       "      <td>2</td>\n",
       "      <td>0.0</td>\n",
       "      <td>0.000</td>\n",
       "      <td>2</td>\n",
       "    </tr>\n",
       "    <tr>\n",
       "      <th>2496</th>\n",
       "      <td>-2.6091</td>\n",
       "      <td>0.29695</td>\n",
       "      <td>2.6259</td>\n",
       "      <td>2</td>\n",
       "      <td>0.0004</td>\n",
       "      <td>2</td>\n",
       "      <td>0.0</td>\n",
       "      <td>0.0000</td>\n",
       "      <td>2</td>\n",
       "      <td>0.0</td>\n",
       "      <td>0.000</td>\n",
       "      <td>2</td>\n",
       "    </tr>\n",
       "    <tr>\n",
       "      <th>2497</th>\n",
       "      <td>-2.7131</td>\n",
       "      <td>0.24234</td>\n",
       "      <td>2.7239</td>\n",
       "      <td>2</td>\n",
       "      <td>0.0004</td>\n",
       "      <td>2</td>\n",
       "      <td>0.0</td>\n",
       "      <td>0.0000</td>\n",
       "      <td>2</td>\n",
       "      <td>0.0</td>\n",
       "      <td>0.000</td>\n",
       "      <td>2</td>\n",
       "    </tr>\n",
       "    <tr>\n",
       "      <th>2498</th>\n",
       "      <td>-3.0334</td>\n",
       "      <td>0.79411</td>\n",
       "      <td>3.1356</td>\n",
       "      <td>2</td>\n",
       "      <td>0.0004</td>\n",
       "      <td>2</td>\n",
       "      <td>0.0</td>\n",
       "      <td>0.0000</td>\n",
       "      <td>2</td>\n",
       "      <td>0.0</td>\n",
       "      <td>0.000</td>\n",
       "      <td>2</td>\n",
       "    </tr>\n",
       "    <tr>\n",
       "      <th>2499</th>\n",
       "      <td>-2.4726</td>\n",
       "      <td>0.54870</td>\n",
       "      <td>2.5327</td>\n",
       "      <td>2</td>\n",
       "      <td>0.0004</td>\n",
       "      <td>2</td>\n",
       "      <td>0.0</td>\n",
       "      <td>0.0000</td>\n",
       "      <td>2</td>\n",
       "      <td>0.0</td>\n",
       "      <td>0.000</td>\n",
       "      <td>2</td>\n",
       "    </tr>\n",
       "  </tbody>\n",
       "</table>\n",
       "<p>2500 rows × 12 columns</p>\n",
       "</div>"
      ],
      "text/plain": [
       "           a        b        c  class  sample weight  pred1  misclassified  \\\n",
       "0     9.4202 -4.35070  10.3764      1         0.0004      1            0.0   \n",
       "1     9.7044 -4.46010  10.6803      1         0.0004      1            0.0   \n",
       "2     9.8075 -4.08940  10.6259      1         0.0004      1            0.0   \n",
       "3     9.2771 -4.03490  10.1166      1         0.0004      1            0.0   \n",
       "4     9.6447 -3.59680  10.2936      1         0.0004      1            0.0   \n",
       "...      ...      ...      ...    ...            ...    ...            ...   \n",
       "2495 -2.3611  0.25915   2.3753      2         0.0004      2            0.0   \n",
       "2496 -2.6091  0.29695   2.6259      2         0.0004      2            0.0   \n",
       "2497 -2.7131  0.24234   2.7239      2         0.0004      2            0.0   \n",
       "2498 -3.0334  0.79411   3.1356      2         0.0004      2            0.0   \n",
       "2499 -2.4726  0.54870   2.5327      2         0.0004      2            0.0   \n",
       "\n",
       "       prob2  pred2  misclassified2  prob3  pred3  \n",
       "0     0.0007      1             0.0  0.001      1  \n",
       "1     0.0007      1             0.0  0.001      1  \n",
       "2     0.0007      1             0.0  0.001      1  \n",
       "3     0.0007      1             0.0  0.001      1  \n",
       "4     0.0007      1             0.0  0.001      1  \n",
       "...      ...    ...             ...    ...    ...  \n",
       "2495  0.0000      2             0.0  0.000      2  \n",
       "2496  0.0000      2             0.0  0.000      2  \n",
       "2497  0.0000      2             0.0  0.000      2  \n",
       "2498  0.0000      2             0.0  0.000      2  \n",
       "2499  0.0000      2             0.0  0.000      2  \n",
       "\n",
       "[2500 rows x 12 columns]"
      ]
     },
     "execution_count": 55,
     "metadata": {},
     "output_type": "execute_result"
    }
   ],
   "source": [
    "df"
   ]
  },
  {
   "cell_type": "code",
   "execution_count": 56,
   "id": "589296d5",
   "metadata": {},
   "outputs": [],
   "source": [
    "df.loc[df['class'] != df.pred3, 'misclassified3'] = 1\n",
    "df.loc[df['class'] == df.pred3, 'misclassified3'] = 0"
   ]
  },
  {
   "cell_type": "markdown",
   "id": "6f313f19",
   "metadata": {},
   "source": [
    "For the round 3 it shows that there are no misclassified, so I have commented the code for finding the value for third \n",
    "iteration i.e e3, alpha3 and so on.\n",
    "Sir,You can check if for yourself."
   ]
  },
  {
   "cell_type": "code",
   "execution_count": 57,
   "id": "db250abd",
   "metadata": {},
   "outputs": [],
   "source": [
    "# e3 = sum(df['misclassified3'] * df['prob3']) #/len(example)\n",
    "# e3"
   ]
  },
  {
   "cell_type": "code",
   "execution_count": 58,
   "id": "0b44c99c",
   "metadata": {},
   "outputs": [],
   "source": [
    "# alpha3 = 0.5*np.log((1-e3)/e3)\n",
    "# alpha3"
   ]
  },
  {
   "cell_type": "code",
   "execution_count": 59,
   "id": "e16a53cf",
   "metadata": {},
   "outputs": [],
   "source": [
    "# new_weight = df['prob3']*np.exp(-1*alpha3*df['class']*df['pred3'])\n",
    "# z = sum(new_weight)\n",
    "# normalized_weight = new_weight/sum(new_weight)"
   ]
  },
  {
   "cell_type": "code",
   "execution_count": 60,
   "id": "a96911a9",
   "metadata": {},
   "outputs": [],
   "source": [
    "# df['prob4'] = round(normalized_weight,4)"
   ]
  },
  {
   "cell_type": "code",
   "execution_count": 61,
   "id": "9a47ec71",
   "metadata": {},
   "outputs": [
    {
     "data": {
      "text/plain": [
       "array([1., 1., 1., ..., 1., 1., 1.])"
      ]
     },
     "execution_count": 61,
     "metadata": {},
     "output_type": "execute_result"
    }
   ],
   "source": [
    "t = alpha1 * df['pred1'] + alpha2 * df['pred2'] #+ alpha3 * df['pred3'] \n",
    "np.sign(list(t))"
   ]
  },
  {
   "cell_type": "code",
   "execution_count": 62,
   "id": "4c2906a5",
   "metadata": {},
   "outputs": [
    {
     "data": {
      "text/html": [
       "<div>\n",
       "<style scoped>\n",
       "    .dataframe tbody tr th:only-of-type {\n",
       "        vertical-align: middle;\n",
       "    }\n",
       "\n",
       "    .dataframe tbody tr th {\n",
       "        vertical-align: top;\n",
       "    }\n",
       "\n",
       "    .dataframe thead th {\n",
       "        text-align: right;\n",
       "    }\n",
       "</style>\n",
       "<table border=\"1\" class=\"dataframe\">\n",
       "  <thead>\n",
       "    <tr style=\"text-align: right;\">\n",
       "      <th></th>\n",
       "      <th>a</th>\n",
       "      <th>b</th>\n",
       "      <th>c</th>\n",
       "      <th>class</th>\n",
       "      <th>sample weight</th>\n",
       "      <th>pred1</th>\n",
       "      <th>misclassified</th>\n",
       "      <th>prob2</th>\n",
       "      <th>pred2</th>\n",
       "      <th>misclassified2</th>\n",
       "      <th>prob3</th>\n",
       "      <th>pred3</th>\n",
       "      <th>misclassified3</th>\n",
       "      <th>final_pred</th>\n",
       "    </tr>\n",
       "  </thead>\n",
       "  <tbody>\n",
       "    <tr>\n",
       "      <th>0</th>\n",
       "      <td>9.4202</td>\n",
       "      <td>-4.35070</td>\n",
       "      <td>10.3764</td>\n",
       "      <td>1</td>\n",
       "      <td>0.0004</td>\n",
       "      <td>1</td>\n",
       "      <td>0.0</td>\n",
       "      <td>0.0007</td>\n",
       "      <td>1</td>\n",
       "      <td>0.0</td>\n",
       "      <td>0.001</td>\n",
       "      <td>1</td>\n",
       "      <td>0.0</td>\n",
       "      <td>1.0</td>\n",
       "    </tr>\n",
       "    <tr>\n",
       "      <th>1</th>\n",
       "      <td>9.7044</td>\n",
       "      <td>-4.46010</td>\n",
       "      <td>10.6803</td>\n",
       "      <td>1</td>\n",
       "      <td>0.0004</td>\n",
       "      <td>1</td>\n",
       "      <td>0.0</td>\n",
       "      <td>0.0007</td>\n",
       "      <td>1</td>\n",
       "      <td>0.0</td>\n",
       "      <td>0.001</td>\n",
       "      <td>1</td>\n",
       "      <td>0.0</td>\n",
       "      <td>1.0</td>\n",
       "    </tr>\n",
       "    <tr>\n",
       "      <th>2</th>\n",
       "      <td>9.8075</td>\n",
       "      <td>-4.08940</td>\n",
       "      <td>10.6259</td>\n",
       "      <td>1</td>\n",
       "      <td>0.0004</td>\n",
       "      <td>1</td>\n",
       "      <td>0.0</td>\n",
       "      <td>0.0007</td>\n",
       "      <td>1</td>\n",
       "      <td>0.0</td>\n",
       "      <td>0.001</td>\n",
       "      <td>1</td>\n",
       "      <td>0.0</td>\n",
       "      <td>1.0</td>\n",
       "    </tr>\n",
       "    <tr>\n",
       "      <th>3</th>\n",
       "      <td>9.2771</td>\n",
       "      <td>-4.03490</td>\n",
       "      <td>10.1166</td>\n",
       "      <td>1</td>\n",
       "      <td>0.0004</td>\n",
       "      <td>1</td>\n",
       "      <td>0.0</td>\n",
       "      <td>0.0007</td>\n",
       "      <td>1</td>\n",
       "      <td>0.0</td>\n",
       "      <td>0.001</td>\n",
       "      <td>1</td>\n",
       "      <td>0.0</td>\n",
       "      <td>1.0</td>\n",
       "    </tr>\n",
       "    <tr>\n",
       "      <th>4</th>\n",
       "      <td>9.6447</td>\n",
       "      <td>-3.59680</td>\n",
       "      <td>10.2936</td>\n",
       "      <td>1</td>\n",
       "      <td>0.0004</td>\n",
       "      <td>1</td>\n",
       "      <td>0.0</td>\n",
       "      <td>0.0007</td>\n",
       "      <td>1</td>\n",
       "      <td>0.0</td>\n",
       "      <td>0.001</td>\n",
       "      <td>1</td>\n",
       "      <td>0.0</td>\n",
       "      <td>1.0</td>\n",
       "    </tr>\n",
       "    <tr>\n",
       "      <th>...</th>\n",
       "      <td>...</td>\n",
       "      <td>...</td>\n",
       "      <td>...</td>\n",
       "      <td>...</td>\n",
       "      <td>...</td>\n",
       "      <td>...</td>\n",
       "      <td>...</td>\n",
       "      <td>...</td>\n",
       "      <td>...</td>\n",
       "      <td>...</td>\n",
       "      <td>...</td>\n",
       "      <td>...</td>\n",
       "      <td>...</td>\n",
       "      <td>...</td>\n",
       "    </tr>\n",
       "    <tr>\n",
       "      <th>2495</th>\n",
       "      <td>-2.3611</td>\n",
       "      <td>0.25915</td>\n",
       "      <td>2.3753</td>\n",
       "      <td>2</td>\n",
       "      <td>0.0004</td>\n",
       "      <td>2</td>\n",
       "      <td>0.0</td>\n",
       "      <td>0.0000</td>\n",
       "      <td>2</td>\n",
       "      <td>0.0</td>\n",
       "      <td>0.000</td>\n",
       "      <td>2</td>\n",
       "      <td>0.0</td>\n",
       "      <td>1.0</td>\n",
       "    </tr>\n",
       "    <tr>\n",
       "      <th>2496</th>\n",
       "      <td>-2.6091</td>\n",
       "      <td>0.29695</td>\n",
       "      <td>2.6259</td>\n",
       "      <td>2</td>\n",
       "      <td>0.0004</td>\n",
       "      <td>2</td>\n",
       "      <td>0.0</td>\n",
       "      <td>0.0000</td>\n",
       "      <td>2</td>\n",
       "      <td>0.0</td>\n",
       "      <td>0.000</td>\n",
       "      <td>2</td>\n",
       "      <td>0.0</td>\n",
       "      <td>1.0</td>\n",
       "    </tr>\n",
       "    <tr>\n",
       "      <th>2497</th>\n",
       "      <td>-2.7131</td>\n",
       "      <td>0.24234</td>\n",
       "      <td>2.7239</td>\n",
       "      <td>2</td>\n",
       "      <td>0.0004</td>\n",
       "      <td>2</td>\n",
       "      <td>0.0</td>\n",
       "      <td>0.0000</td>\n",
       "      <td>2</td>\n",
       "      <td>0.0</td>\n",
       "      <td>0.000</td>\n",
       "      <td>2</td>\n",
       "      <td>0.0</td>\n",
       "      <td>1.0</td>\n",
       "    </tr>\n",
       "    <tr>\n",
       "      <th>2498</th>\n",
       "      <td>-3.0334</td>\n",
       "      <td>0.79411</td>\n",
       "      <td>3.1356</td>\n",
       "      <td>2</td>\n",
       "      <td>0.0004</td>\n",
       "      <td>2</td>\n",
       "      <td>0.0</td>\n",
       "      <td>0.0000</td>\n",
       "      <td>2</td>\n",
       "      <td>0.0</td>\n",
       "      <td>0.000</td>\n",
       "      <td>2</td>\n",
       "      <td>0.0</td>\n",
       "      <td>1.0</td>\n",
       "    </tr>\n",
       "    <tr>\n",
       "      <th>2499</th>\n",
       "      <td>-2.4726</td>\n",
       "      <td>0.54870</td>\n",
       "      <td>2.5327</td>\n",
       "      <td>2</td>\n",
       "      <td>0.0004</td>\n",
       "      <td>2</td>\n",
       "      <td>0.0</td>\n",
       "      <td>0.0000</td>\n",
       "      <td>2</td>\n",
       "      <td>0.0</td>\n",
       "      <td>0.000</td>\n",
       "      <td>2</td>\n",
       "      <td>0.0</td>\n",
       "      <td>1.0</td>\n",
       "    </tr>\n",
       "  </tbody>\n",
       "</table>\n",
       "<p>2500 rows × 14 columns</p>\n",
       "</div>"
      ],
      "text/plain": [
       "           a        b        c  class  sample weight  pred1  misclassified  \\\n",
       "0     9.4202 -4.35070  10.3764      1         0.0004      1            0.0   \n",
       "1     9.7044 -4.46010  10.6803      1         0.0004      1            0.0   \n",
       "2     9.8075 -4.08940  10.6259      1         0.0004      1            0.0   \n",
       "3     9.2771 -4.03490  10.1166      1         0.0004      1            0.0   \n",
       "4     9.6447 -3.59680  10.2936      1         0.0004      1            0.0   \n",
       "...      ...      ...      ...    ...            ...    ...            ...   \n",
       "2495 -2.3611  0.25915   2.3753      2         0.0004      2            0.0   \n",
       "2496 -2.6091  0.29695   2.6259      2         0.0004      2            0.0   \n",
       "2497 -2.7131  0.24234   2.7239      2         0.0004      2            0.0   \n",
       "2498 -3.0334  0.79411   3.1356      2         0.0004      2            0.0   \n",
       "2499 -2.4726  0.54870   2.5327      2         0.0004      2            0.0   \n",
       "\n",
       "       prob2  pred2  misclassified2  prob3  pred3  misclassified3  final_pred  \n",
       "0     0.0007      1             0.0  0.001      1             0.0         1.0  \n",
       "1     0.0007      1             0.0  0.001      1             0.0         1.0  \n",
       "2     0.0007      1             0.0  0.001      1             0.0         1.0  \n",
       "3     0.0007      1             0.0  0.001      1             0.0         1.0  \n",
       "4     0.0007      1             0.0  0.001      1             0.0         1.0  \n",
       "...      ...    ...             ...    ...    ...             ...         ...  \n",
       "2495  0.0000      2             0.0  0.000      2             0.0         1.0  \n",
       "2496  0.0000      2             0.0  0.000      2             0.0         1.0  \n",
       "2497  0.0000      2             0.0  0.000      2             0.0         1.0  \n",
       "2498  0.0000      2             0.0  0.000      2             0.0         1.0  \n",
       "2499  0.0000      2             0.0  0.000      2             0.0         1.0  \n",
       "\n",
       "[2500 rows x 14 columns]"
      ]
     },
     "execution_count": 62,
     "metadata": {},
     "output_type": "execute_result"
    }
   ],
   "source": [
    "df['final_pred'] = np.sign(list(t))\n",
    "df"
   ]
  },
  {
   "cell_type": "code",
   "execution_count": 63,
   "id": "132f3c54",
   "metadata": {},
   "outputs": [
    {
     "data": {
      "text/plain": [
       "array([[1249,    0],\n",
       "       [1251,    0]], dtype=int64)"
      ]
     },
     "execution_count": 63,
     "metadata": {},
     "output_type": "execute_result"
    }
   ],
   "source": [
    "c=confusion_matrix(df['class'], df['final_pred'])\n",
    "c"
   ]
  },
  {
   "cell_type": "code",
   "execution_count": 64,
   "id": "0a3c7818",
   "metadata": {},
   "outputs": [
    {
     "data": {
      "text/plain": [
       "49.96"
      ]
     },
     "execution_count": 64,
     "metadata": {},
     "output_type": "execute_result"
    }
   ],
   "source": [
    "(c[0,0]+c[1,1])/np.sum(c)*100"
   ]
  },
  {
   "cell_type": "code",
   "execution_count": null,
   "id": "cc570797",
   "metadata": {},
   "outputs": [],
   "source": []
  },
  {
   "cell_type": "markdown",
   "id": "3eccd6f1",
   "metadata": {},
   "source": [
    "# Sklearn"
   ]
  },
  {
   "cell_type": "code",
   "execution_count": 65,
   "id": "4136f78d",
   "metadata": {},
   "outputs": [],
   "source": [
    "x = df[['a','b','c']]\n",
    "y = df['class']"
   ]
  },
  {
   "cell_type": "code",
   "execution_count": 66,
   "id": "aeab248c",
   "metadata": {},
   "outputs": [],
   "source": [
    "X_train, X_test, y_train, y_test = train_test_split(X, y, test_size=0.3)"
   ]
  },
  {
   "cell_type": "code",
   "execution_count": 67,
   "id": "15c9129a",
   "metadata": {},
   "outputs": [],
   "source": [
    "ada = AdaBoostClassifier(n_estimators=50,learning_rate=1)\n",
    "\n",
    "model = ada.fit(X_train, y_train)\n",
    "\n",
    "y_pred = model.predict(X_test)"
   ]
  },
  {
   "cell_type": "code",
   "execution_count": 68,
   "id": "f78faf7a",
   "metadata": {},
   "outputs": [
    {
     "name": "stdout",
     "output_type": "stream",
     "text": [
      "Accuracy: 99.33333333333333\n"
     ]
    }
   ],
   "source": [
    "print(\"Accuracy:\",metrics.accuracy_score(y_test, y_pred)*100)"
   ]
  },
  {
   "cell_type": "code",
   "execution_count": 69,
   "id": "51ad0ad3",
   "metadata": {},
   "outputs": [
    {
     "data": {
      "text/plain": [
       "[Text(167.4, 163.07999999999998, 'X[2] <= 7.474\\ngini = 0.5\\nsamples = 1750\\nvalue = [0.5, 0.5]'),\n",
       " Text(83.7, 54.360000000000014, 'gini = 0.385\\nsamples = 1273\\nvalue = [0.174, 0.495]'),\n",
       " Text(251.10000000000002, 54.360000000000014, 'gini = 0.028\\nsamples = 477\\nvalue = [0.326, 0.005]')]"
      ]
     },
     "execution_count": 69,
     "metadata": {},
     "output_type": "execute_result"
    },
    {
     "data": {
      "image/png": "[encoded data removed]",
      "text/plain": [
       "<Figure size 432x288 with 1 Axes>"
      ]
     },
     "metadata": {
      "needs_background": "light"
     },
     "output_type": "display_data"
    }
   ],
   "source": [
    "tree.plot_tree(ada.estimators_[i] , filled =True)"
   ]
  },
  {
   "cell_type": "markdown",
   "id": "0e4c9a38",
   "metadata": {},
   "source": [
    "# Evaluation"
   ]
  },
  {
   "cell_type": "markdown",
   "id": "b73efbfc",
   "metadata": {},
   "source": [
    "For the AdaBoostClassifier I have taken step by step approch rather than building a class. I could definitely increase the accuracy of my implementation as it is only 49%. I think I made some mistake while calculating e3 as mentioned above the misclassified3 which might be wrong. I can improve my accuracy by goving with more traditional approch of building the class and iterating using for loop."
   ]
  },
  {
   "cell_type": "markdown",
   "id": "8c2be9b1",
   "metadata": {},
   "source": [
    "### Question 4: Gradient Boost Classifier\n",
    "- GB implementation (15 pts)\n",
    "- Classification using GradientBoostingClassifier (5 pts)\n",
    "- Evaluation (5 pts)"
   ]
  },
  {
   "cell_type": "code",
   "execution_count": 70,
   "id": "e405eb41",
   "metadata": {},
   "outputs": [],
   "source": [
    "df_gb = pd.read_csv('./F21_CS559_HW3_data.csv')\n",
    "x = df_gb[['a','b','c']]\n",
    "y = df_gb['class']"
   ]
  },
  {
   "cell_type": "code",
   "execution_count": 71,
   "id": "d6eded57",
   "metadata": {},
   "outputs": [],
   "source": [
    "# df_gb['class'].value_counts() "
   ]
  },
  {
   "cell_type": "code",
   "execution_count": 72,
   "id": "096f23de",
   "metadata": {},
   "outputs": [
    {
     "data": {
      "text/plain": [
       "0.0016000003413334314"
      ]
     },
     "execution_count": 72,
     "metadata": {},
     "output_type": "execute_result"
    }
   ],
   "source": [
    "log_odds=np.log(1251/ 1249)\n",
    "log_odds"
   ]
  },
  {
   "cell_type": "code",
   "execution_count": 73,
   "id": "22a5a54e",
   "metadata": {},
   "outputs": [
    {
     "data": {
      "text/plain": [
       "0.5004"
      ]
     },
     "execution_count": 73,
     "metadata": {},
     "output_type": "execute_result"
    }
   ],
   "source": [
    "prob=np.exp(log_odds)/(1+np.exp(log_odds))\n",
    "prob"
   ]
  },
  {
   "cell_type": "code",
   "execution_count": 74,
   "id": "ce85e704",
   "metadata": {},
   "outputs": [],
   "source": [
    "predict=1\n",
    "n_samples=4000"
   ]
  },
  {
   "cell_type": "code",
   "execution_count": 75,
   "id": "854374fe",
   "metadata": {},
   "outputs": [
    {
     "data": {
      "text/plain": [
       "0       0.692348\n",
       "1       0.692348\n",
       "2       0.692348\n",
       "3       0.692348\n",
       "4       0.692348\n",
       "          ...   \n",
       "2495    0.690748\n",
       "2496    0.690748\n",
       "2497    0.690748\n",
       "2498    0.690748\n",
       "2499    0.690748\n",
       "Name: class, Length: 2500, dtype: float64"
      ]
     },
     "execution_count": 75,
     "metadata": {},
     "output_type": "execute_result"
    }
   ],
   "source": [
    "loss=-(y*np.log(prob)+(1-y)*np.log(1-prob))\n",
    "loss"
   ]
  },
  {
   "cell_type": "code",
   "execution_count": 76,
   "id": "1627b991",
   "metadata": {},
   "outputs": [
    {
     "data": {
      "text/html": [
       "<div>\n",
       "<style scoped>\n",
       "    .dataframe tbody tr th:only-of-type {\n",
       "        vertical-align: middle;\n",
       "    }\n",
       "\n",
       "    .dataframe tbody tr th {\n",
       "        vertical-align: top;\n",
       "    }\n",
       "\n",
       "    .dataframe thead th {\n",
       "        text-align: right;\n",
       "    }\n",
       "</style>\n",
       "<table border=\"1\" class=\"dataframe\">\n",
       "  <thead>\n",
       "    <tr style=\"text-align: right;\">\n",
       "      <th></th>\n",
       "      <th>a</th>\n",
       "      <th>b</th>\n",
       "      <th>c</th>\n",
       "      <th>class</th>\n",
       "      <th>loss</th>\n",
       "    </tr>\n",
       "  </thead>\n",
       "  <tbody>\n",
       "    <tr>\n",
       "      <th>0</th>\n",
       "      <td>9.4202</td>\n",
       "      <td>-4.35070</td>\n",
       "      <td>10.3764</td>\n",
       "      <td>1</td>\n",
       "      <td>0.692348</td>\n",
       "    </tr>\n",
       "    <tr>\n",
       "      <th>1</th>\n",
       "      <td>9.7044</td>\n",
       "      <td>-4.46010</td>\n",
       "      <td>10.6803</td>\n",
       "      <td>1</td>\n",
       "      <td>0.692348</td>\n",
       "    </tr>\n",
       "    <tr>\n",
       "      <th>2</th>\n",
       "      <td>9.8075</td>\n",
       "      <td>-4.08940</td>\n",
       "      <td>10.6259</td>\n",
       "      <td>1</td>\n",
       "      <td>0.692348</td>\n",
       "    </tr>\n",
       "    <tr>\n",
       "      <th>3</th>\n",
       "      <td>9.2771</td>\n",
       "      <td>-4.03490</td>\n",
       "      <td>10.1166</td>\n",
       "      <td>1</td>\n",
       "      <td>0.692348</td>\n",
       "    </tr>\n",
       "    <tr>\n",
       "      <th>4</th>\n",
       "      <td>9.6447</td>\n",
       "      <td>-3.59680</td>\n",
       "      <td>10.2936</td>\n",
       "      <td>1</td>\n",
       "      <td>0.692348</td>\n",
       "    </tr>\n",
       "    <tr>\n",
       "      <th>...</th>\n",
       "      <td>...</td>\n",
       "      <td>...</td>\n",
       "      <td>...</td>\n",
       "      <td>...</td>\n",
       "      <td>...</td>\n",
       "    </tr>\n",
       "    <tr>\n",
       "      <th>2495</th>\n",
       "      <td>-2.3611</td>\n",
       "      <td>0.25915</td>\n",
       "      <td>2.3753</td>\n",
       "      <td>2</td>\n",
       "      <td>0.690748</td>\n",
       "    </tr>\n",
       "    <tr>\n",
       "      <th>2496</th>\n",
       "      <td>-2.6091</td>\n",
       "      <td>0.29695</td>\n",
       "      <td>2.6259</td>\n",
       "      <td>2</td>\n",
       "      <td>0.690748</td>\n",
       "    </tr>\n",
       "    <tr>\n",
       "      <th>2497</th>\n",
       "      <td>-2.7131</td>\n",
       "      <td>0.24234</td>\n",
       "      <td>2.7239</td>\n",
       "      <td>2</td>\n",
       "      <td>0.690748</td>\n",
       "    </tr>\n",
       "    <tr>\n",
       "      <th>2498</th>\n",
       "      <td>-3.0334</td>\n",
       "      <td>0.79411</td>\n",
       "      <td>3.1356</td>\n",
       "      <td>2</td>\n",
       "      <td>0.690748</td>\n",
       "    </tr>\n",
       "    <tr>\n",
       "      <th>2499</th>\n",
       "      <td>-2.4726</td>\n",
       "      <td>0.54870</td>\n",
       "      <td>2.5327</td>\n",
       "      <td>2</td>\n",
       "      <td>0.690748</td>\n",
       "    </tr>\n",
       "  </tbody>\n",
       "</table>\n",
       "<p>2500 rows × 5 columns</p>\n",
       "</div>"
      ],
      "text/plain": [
       "           a        b        c  class      loss\n",
       "0     9.4202 -4.35070  10.3764      1  0.692348\n",
       "1     9.7044 -4.46010  10.6803      1  0.692348\n",
       "2     9.8075 -4.08940  10.6259      1  0.692348\n",
       "3     9.2771 -4.03490  10.1166      1  0.692348\n",
       "4     9.6447 -3.59680  10.2936      1  0.692348\n",
       "...      ...      ...      ...    ...       ...\n",
       "2495 -2.3611  0.25915   2.3753      2  0.690748\n",
       "2496 -2.6091  0.29695   2.6259      2  0.690748\n",
       "2497 -2.7131  0.24234   2.7239      2  0.690748\n",
       "2498 -3.0334  0.79411   3.1356      2  0.690748\n",
       "2499 -2.4726  0.54870   2.5327      2  0.690748\n",
       "\n",
       "[2500 rows x 5 columns]"
      ]
     },
     "execution_count": 76,
     "metadata": {},
     "output_type": "execute_result"
    }
   ],
   "source": [
    "df_gb['loss'] = loss\n",
    "df_gb"
   ]
  },
  {
   "cell_type": "code",
   "execution_count": 77,
   "id": "57a2e2b0",
   "metadata": {},
   "outputs": [],
   "source": [
    "class MyGradientBoostingClassifier():\n",
    "    def __init__(self):\n",
    "        \n",
    "        self.n_estimators=50\n",
    "        self.learning_rate=0.5\n",
    "        self.max_depth=3\n",
    "        self.max_leaf_nodes=3\n",
    "        \n",
    "    def iteration():\n",
    "        for i in range(10):\n",
    "            residuals[i] = y - prob[i]\n",
    "\n",
    "            dt = DecisionTreeRegressor(max_depth, max_leaf_nodes=3)\n",
    "            dt=dt.fit(x, y)\n",
    "\n",
    "            dt.find_better_split(0)\n",
    "\n",
    "            r = np.where(xi == tree.split)[0][0]\n",
    "\n",
    "            left_idx = np.where(xi <= tree.split)[0]  \n",
    "            right_idx = np.where(xi > tree.split)[0]  \n",
    "            trees.append(dt.tree_)\n",
    "        "
   ]
  },
  {
   "cell_type": "code",
   "execution_count": null,
   "id": "34a4a60e",
   "metadata": {},
   "outputs": [],
   "source": []
  },
  {
   "cell_type": "markdown",
   "id": "bc487517",
   "metadata": {},
   "source": [
    "# Sklearn"
   ]
  },
  {
   "cell_type": "code",
   "execution_count": 78,
   "id": "c765c271",
   "metadata": {},
   "outputs": [],
   "source": [
    "x = df[['a','b','c']]\n",
    "y = df['class']"
   ]
  },
  {
   "cell_type": "code",
   "execution_count": 79,
   "id": "32e1b9f4",
   "metadata": {},
   "outputs": [],
   "source": [
    "X_train, X_test, y_train, y_test = train_test_split(X, y, test_size=0.3)"
   ]
  },
  {
   "cell_type": "code",
   "execution_count": 80,
   "id": "9b52a8f6",
   "metadata": {},
   "outputs": [],
   "source": [
    "gb_clf = GradientBoostingClassifier(n_estimators=20, learning_rate=0.5, max_features=3, max_depth=3, random_state=0)\n",
    "gb_clf.fit(X_train, y_train)\n",
    "y_pred = gb_clf.predict(X_test)"
   ]
  },
  {
   "cell_type": "code",
   "execution_count": 81,
   "id": "bac47483",
   "metadata": {},
   "outputs": [
    {
     "name": "stdout",
     "output_type": "stream",
     "text": [
      "Accuracy: 99.86666666666667\n"
     ]
    }
   ],
   "source": [
    "print(\"Accuracy:\",metrics.accuracy_score(y_test, y_pred)*100)"
   ]
  },
  {
   "cell_type": "code",
   "execution_count": 82,
   "id": "91525514",
   "metadata": {},
   "outputs": [],
   "source": [
    "gb_clf = GradientBoostingClassifier(n_estimators=20, learning_rate=0.25, max_features=3, max_depth=3, random_state=0)\n",
    "gb_clf.fit(X_train, y_train)\n",
    "y_pred = gb_clf.predict(X_test)"
   ]
  },
  {
   "cell_type": "code",
   "execution_count": 83,
   "id": "ea1b006c",
   "metadata": {},
   "outputs": [
    {
     "name": "stdout",
     "output_type": "stream",
     "text": [
      "Accuracy: 99.86666666666667\n"
     ]
    }
   ],
   "source": [
    "print(\"Accuracy:\",metrics.accuracy_score(y_test, y_pred)*100)"
   ]
  },
  {
   "cell_type": "code",
   "execution_count": 84,
   "id": "bbe99952",
   "metadata": {},
   "outputs": [],
   "source": [
    "gb_clf = GradientBoostingClassifier(n_estimators=20, learning_rate=1, max_features=3, max_depth=3, random_state=0)\n",
    "gb_clf.fit(X_train, y_train)\n",
    "y_pred = gb_clf.predict(X_test)"
   ]
  },
  {
   "cell_type": "code",
   "execution_count": 85,
   "id": "5102caed",
   "metadata": {},
   "outputs": [
    {
     "name": "stdout",
     "output_type": "stream",
     "text": [
      "Accuracy: 99.86666666666667\n"
     ]
    }
   ],
   "source": [
    "print(\"Accuracy:\",metrics.accuracy_score(y_test, y_pred)*100)"
   ]
  },
  {
   "cell_type": "markdown",
   "id": "3dc99456",
   "metadata": {},
   "source": [
    "# Evaluation"
   ]
  },
  {
   "cell_type": "markdown",
   "id": "d2cf67e7",
   "metadata": {},
   "source": [
    "As we can see from above the as the learning rate changes accuracy also changes. In my implementation I have computed log of odds and prob for class MyGradientBoostingClassifier."
   ]
  }
 ],
 "metadata": {
  "kernelspec": {
   "display_name": "Python 3 (ipykernel)",
   "language": "python",
   "name": "python3"
  },
  "language_info": {
   "codemirror_mode": {
    "name": "ipython",
    "version": 3
   },
   "file_extension": ".py",
   "mimetype": "text/x-python",
   "name": "python",
   "nbconvert_exporter": "python",
   "pygments_lexer": "ipython3",
   "version": "3.9.7"
  }
 },
 "nbformat": 4,
 "nbformat_minor": 5
}
