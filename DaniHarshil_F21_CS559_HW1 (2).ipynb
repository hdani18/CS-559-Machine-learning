{
 "cells": [
  {
   "cell_type": "markdown",
   "metadata": {},
   "source": [
    "# <center> Fall 2021 CS559: Homework #1 </center>"
   ]
  },
  {
   "cell_type": "markdown",
   "metadata": {},
   "source": [
    "### <center> Due: **9/23/2021 Thursday 11:59 PM** </center>\n",
    "\n",
    "\n",
    "\n",
    "- Before you start, rename the file as *LastNameFirstName*_F21_CS559_HW1 (e.g., JangInsuk_F21_CS559_HW1). \n",
    "- Submit the assignment both in format of *ipynb* and *html*. \n",
    "    - Export the file as *HTML* as `File`>`Download as`>`HTML`. \n",
    "    - Do not need to print results of middle-process work. Only the final answers must be printed while all lines must be excuted. \n",
    "    - Clean up unnecessary lines and codes with errors. \n",
    "    - Use *Markdown* to explain answers and results. \n",
    "    - **Do not need to compress** the files. You can submit files individually.\n",
    "    - Only one time submission is allowd \n",
    "- This assignment focuses on topics of linear algebra, probability theory, and EDA. \n",
    "    - For linear algebra questions, when the question says \"implement\", you are not allowed to use any built-in functions from `NumPy` or similar libraries that do the job. (e.g., if the question is to implement dot prodcut function, do not use `numpy.dot`). \n",
    "- This assignment should an individual work. Do not collaborate with classmates or get help from 3rd person. You may surf internet if you need to. Then site the reference. "
   ]
  },
  {
   "cell_type": "markdown",
   "metadata": {},
   "source": [
    "### Problem 1 [20 pts]\n",
    "This problem task to implement functions of matrix operations - multiplication and tranpose. Please do not use numpy matrix packages in implementations.  \n",
    "\n",
    "1-a: Implement a function `mat_product` to calculate the matrix product of two n by n arrays. [8 pts] \n",
    "$$C_{ij}=\\sum_{i,j,k=1}^nA_{ik}B_{kj}$$"
   ]
  },
  {
   "cell_type": "code",
   "execution_count": 1,
   "metadata": {},
   "outputs": [],
   "source": [
    "import numpy as np"
   ]
  },
  {
   "cell_type": "code",
   "execution_count": 2,
   "metadata": {},
   "outputs": [],
   "source": [
    "### Code Starts Here\n",
    "def mat_product(A,B,n):\n",
    "    # initialize the resultant array\n",
    "    C = [ [ 0 for i in range(n) ] for j in range(n) ]\n",
    "    \n",
    "    # loop over each value and calculate the value for each and every element of matrix\n",
    "    for i in range(n):\n",
    "        for j in range(n):\n",
    "            total = 0\n",
    "            for k in range(n):\n",
    "                total += A[i][k] * B[k][j]\n",
    "            C[i][j] = total\n",
    "    return C"
   ]
  },
  {
   "cell_type": "code",
   "execution_count": 3,
   "metadata": {},
   "outputs": [
    {
     "data": {
      "text/plain": [
       "[[7, 10], [15, 22]]"
      ]
     },
     "execution_count": 3,
     "metadata": {},
     "output_type": "execute_result"
    }
   ],
   "source": [
    "mat_product([[1,2],[3,4]],[[1,2],[3,4]],2)"
   ]
  },
  {
   "cell_type": "markdown",
   "metadata": {},
   "source": [
    "1-b Generate two random 3 by 3 matrices, ${\\bf X}$ and ${\\bf Y}$, whose elements are from 0 to 10. Print the result. [2 pts]"
   ]
  },
  {
   "cell_type": "code",
   "execution_count": 4,
   "metadata": {},
   "outputs": [
    {
     "name": "stdout",
     "output_type": "stream",
     "text": [
      "[[2 2 6]\n",
      " [1 3 9]\n",
      " [6 1 0]]\n"
     ]
    }
   ],
   "source": [
    "### Test Starts Here\n",
    "np.random.seed(123)\n",
    "X=np.random.randint(0,10,size=(3,3))\n",
    "Y=np.random.randint(0,10,size=(3,3))\n",
    "print(X)"
   ]
  },
  {
   "cell_type": "code",
   "execution_count": 5,
   "metadata": {},
   "outputs": [
    {
     "name": "stdout",
     "output_type": "stream",
     "text": [
      "[[26, 36, 6], [37, 36, 9], [6, 63, 3]]\n"
     ]
    }
   ],
   "source": [
    "print(mat_product(X,Y,3)) #here 3 is no of rows and columns as defined in question"
   ]
  },
  {
   "cell_type": "markdown",
   "metadata": {},
   "source": [
    "1-c Inplement a function `mat_transpose()` that transposes ${\\bf X}$ and use the `mat_product` function to find the matrice of product: $Z={\\bf X}^T\\cdot{\\bf Y}$. Compare the result with using `np.matmul()`. [10 pts]\n"
   ]
  },
  {
   "cell_type": "code",
   "execution_count": 6,
   "metadata": {},
   "outputs": [
    {
     "name": "stdout",
     "output_type": "stream",
     "text": [
      "[[2 2 6]\n",
      " [1 3 9]\n",
      " [6 1 0]]\n",
      "[[2 1 6]\n",
      " [2 3 1]\n",
      " [6 9 0]]\n"
     ]
    }
   ],
   "source": [
    "### Code Starts Here\n",
    "print(X)\n",
    "\n",
    "\n",
    "def mat_transpose(y):\n",
    "    \n",
    "    # initilize the array\n",
    "    temp = np.zeros([3,3],dtype='int')\n",
    "    \n",
    "    # itrating over each element in the loop\n",
    "    for i in range(3):\n",
    "        for a in range(3):\n",
    "            # swap the element y[i][a] and y[a][i]\n",
    "            temp[a][i] = y[i][a]\n",
    "    return temp\n",
    "m = mat_transpose(X)\n",
    "print(m)"
   ]
  },
  {
   "cell_type": "code",
   "execution_count": 7,
   "metadata": {},
   "outputs": [
    {
     "name": "stdout",
     "output_type": "stream",
     "text": [
      "[[26, 27, 3], [6, 45, 9], [6, 135, 27]]\n"
     ]
    }
   ],
   "source": [
    "Z=mat_product(m,Y,3)\n",
    "print(Z)"
   ]
  },
  {
   "cell_type": "code",
   "execution_count": 8,
   "metadata": {},
   "outputs": [
    {
     "name": "stdout",
     "output_type": "stream",
     "text": [
      "[[ 26  27   3]\n",
      " [  6  45   9]\n",
      " [  6 135  27]]\n"
     ]
    }
   ],
   "source": [
    "### Code np.matmul() starts here\n",
    "Z=np.matmul(m,Y)\n",
    "print(Z)"
   ]
  },
  {
   "cell_type": "markdown",
   "metadata": {},
   "source": [
    "### Problem 2 [20 pts]\n",
    "2-a: Create a simulatior `coin_prob(pi,n,k)` for $n$ fair coins (whose probability is $\\pi=0.5$) flipping $N$ times with the number of trials increase by the intervals of 50, $t=50,100,150,200,\\cdots,10000$, having $k$ number of heads. [10 pts]\n",
    "\n",
    "   - Use the sample data to compute the maximum likelihood estiamte probabilty $s$, `np.random.binomial()`, of $\\pi$.\n",
    "   - Have the simulator return the result of $t$ and $s$ as a data frame \"ProbTable\". \n",
    "   "
   ]
  },
  {
   "cell_type": "code",
   "execution_count": 9,
   "metadata": {},
   "outputs": [],
   "source": [
    "### Code Starts Here\n",
    "import pandas as pd\n",
    "import numpy as np \n",
    "import pandas as pd\n",
    "\n",
    "def coin_prob(pi,n,k):\n",
    "    \"\"\"\n",
    "    Simulator to calculate a probability of n coins \n",
    "    flipping N times with t trials having k number of heads: head (=1)\n",
    "    \"\"\"\n",
    "    a= []\n",
    "    for i in range(50,10000,50):\n",
    "        s= np.random.binomial(i, pi, n)\n",
    "        prob = s.sum()/(i*n)\n",
    "        a.append([i,prob])\n",
    "    ProbTable=pd.DataFrame(a,columns=('Trials', 'Probability'))\n",
    "    return(ProbTable)\n"
   ]
  },
  {
   "cell_type": "markdown",
   "metadata": {},
   "source": [
    "2-b: Test the simulator when $n=1$ and $k=1$. Plot the estimates of $\\pi$ as a function of sample size. Indicate the expected probability using a horizontal line. [5 pts]"
   ]
  },
  {
   "cell_type": "code",
   "execution_count": 10,
   "metadata": {},
   "outputs": [
    {
     "name": "stdout",
     "output_type": "stream",
     "text": [
      "     Trials  Probability\n",
      "0        50     0.540000\n",
      "1       100     0.520000\n",
      "2       150     0.533333\n",
      "3       200     0.495000\n",
      "4       250     0.484000\n",
      "..      ...          ...\n",
      "194    9750     0.500205\n",
      "195    9800     0.502755\n",
      "196    9850     0.498579\n",
      "197    9900     0.506869\n",
      "198    9950     0.495779\n",
      "\n",
      "[199 rows x 2 columns]\n"
     ]
    }
   ],
   "source": [
    "one_coins=coin_prob(pi=0.5,n=1,k=1)\n",
    "print(one_coins)"
   ]
  },
  {
   "cell_type": "code",
   "execution_count": 11,
   "metadata": {},
   "outputs": [
    {
     "data": {
      "text/plain": [
       "<Figure size 640x480 with 1 Axes>"
      ]
     },
     "metadata": {},
     "output_type": "display_data"
    }
   ],
   "source": [
    "### Code Starts Here\n",
    "import matplotlib.pyplot as plt\n",
    "\n",
    "plt.plot(one_coins.Trials, one_coins.Probability, 'g-')\n",
    "plt.axhline(y=np.average(one_coins.Probability), color='r', linestyle='--')\n",
    "plt.xlabel('')\n",
    "plt.ylabel('Probability')\n",
    "plt.title('Probability vs. ')\n",
    "plt.show()"
   ]
  },
  {
   "cell_type": "markdown",
   "metadata": {},
   "source": [
    "2-c: Calculate the probability of having **1 head ($k=1$)** when 3 coins are flipped. Report the expected value.  [5 pts]"
   ]
  },
  {
   "cell_type": "code",
   "execution_count": 12,
   "metadata": {},
   "outputs": [
    {
     "name": "stdout",
     "output_type": "stream",
     "text": [
      "0.375\n"
     ]
    }
   ],
   "source": [
    "import math\n",
    "def prob(n,r):\n",
    "    f = math.factorial\n",
    "    #Probability = nCr * (1/outcomes)^n\n",
    "    return (f(n) / f(r) / f(n-r)/pow(2,n)) \n",
    "prob1 = prob(3,1)\n",
    "print(prob1)"
   ]
  },
  {
   "cell_type": "markdown",
   "metadata": {},
   "source": [
    "2-d: Evaluate your answer in 3-c using the simulator. Show a plot that supports your evaluation. [3 pts]"
   ]
  },
  {
   "cell_type": "code",
   "execution_count": 18,
   "metadata": {},
   "outputs": [],
   "source": [
    "three_coins=coin_prob(pi=0.5,n=3,k=1)"
   ]
  },
  {
   "cell_type": "code",
   "execution_count": 19,
   "metadata": {},
   "outputs": [
    {
     "data": {
      "text/plain": [
       "'Plot shows here'"
      ]
     },
     "execution_count": 19,
     "metadata": {},
     "output_type": "execute_result"
    }
   ],
   "source": [
    "\"\"\"Plot shows here\"\"\"\n"
   ]
  },
  {
   "cell_type": "markdown",
   "metadata": {},
   "source": [
    "### Problem 3 [20 pts]\n",
    "\n",
    "Load the Gross Domestic Product data for the 190 ranked countries in the file **GDP.csv**. Load **Country.csv** into a DataFrame. "
   ]
  },
  {
   "cell_type": "code",
   "execution_count": 20,
   "metadata": {},
   "outputs": [],
   "source": [
    "import numpy as np\n",
    "import pandas as pd"
   ]
  },
  {
   "cell_type": "code",
   "execution_count": 21,
   "metadata": {},
   "outputs": [],
   "source": [
    "gdp = pd.read_csv('GDP.csv', skiprows=range(5), header= None, usecols=[0,1,3,4], nrows=190,encoding='ISO-8859-1')\n",
    "gdp.columns = ['CountryCode', 'Rank', 'CountryName', 'GDP']\n",
    "Country = pd.read_csv('Country.csv',encoding='ISO-8859-1')"
   ]
  },
  {
   "cell_type": "markdown",
   "metadata": {},
   "source": [
    "3-a: Match the `CountryCode` and merge two data frames. Call the new data frame as `Country_GDP`. How many of the IDs match?\n",
    "Use the link for hints: https://pandas.pydata.org/pandas-docs/stable/user_guide/merging.html [5 pts]"
   ]
  },
  {
   "cell_type": "code",
   "execution_count": 22,
   "metadata": {},
   "outputs": [
    {
     "data": {
      "text/plain": [
       "(190, 4)"
      ]
     },
     "execution_count": 22,
     "metadata": {},
     "output_type": "execute_result"
    }
   ],
   "source": [
    "gdp.shape"
   ]
  },
  {
   "cell_type": "code",
   "execution_count": 23,
   "metadata": {},
   "outputs": [
    {
     "data": {
      "text/plain": [
       "(234, 31)"
      ]
     },
     "execution_count": 23,
     "metadata": {},
     "output_type": "execute_result"
    }
   ],
   "source": [
    "Country.shape"
   ]
  },
  {
   "cell_type": "code",
   "execution_count": 24,
   "metadata": {},
   "outputs": [
    {
     "data": {
      "text/plain": [
       "(190, 34)"
      ]
     },
     "execution_count": 24,
     "metadata": {},
     "output_type": "execute_result"
    }
   ],
   "source": [
    "### Code Starts Here\n",
    "Country_GDP= pd.merge(left = gdp, right = Country, how='left')\n",
    "Country_GDP.shape\n"
   ]
  },
  {
   "cell_type": "markdown",
   "metadata": {},
   "source": [
    "No of the id's matched are 190."
   ]
  },
  {
   "cell_type": "markdown",
   "metadata": {},
   "source": [
    "3-b: Use visualization to determine the number of countries by `Region`. Which region has the largest number of countries? [5 pts]"
   ]
  },
  {
   "cell_type": "code",
   "execution_count": 25,
   "metadata": {},
   "outputs": [
    {
     "name": "stdout",
     "output_type": "stream",
     "text": [
      "North America : 3\n",
      "East Asia & Pacific : 29\n",
      "Europe & Central Asia : 50\n",
      "Latin America & Caribbean : 35\n",
      "South Asia : 8\n",
      "Middle East & North Africa : 18\n",
      "Sub-Saharan Africa : 46\n"
     ]
    },
    {
     "data": {
      "image/png": "[encoded data removed]",
      "text/plain": [
       "<Figure size 432x288 with 1 Axes>"
      ]
     },
     "metadata": {
      "needs_background": "light"
     },
     "output_type": "display_data"
    }
   ],
   "source": [
    "### Code Starts Here\n",
    "import matplotlib.pyplot as plt\n",
    "import numpy as np\n",
    "import csv\n",
    "\n",
    "arr = np.array(Country_GDP)\n",
    "reg = []\n",
    "count = []\n",
    "# sets reg array to unique regions and their count in array count\n",
    "for j in range(len(arr)):\n",
    "    for i in range(len(arr[j])):\n",
    "        if i == 6:\n",
    "            if arr[j][i] in reg:\n",
    "                for a in range(len(reg)):\n",
    "                    if arr[j][i] == reg[a]:\n",
    "                        count[a] += 1\n",
    "            else:\n",
    "                reg.append(arr[j][i])\n",
    "                count.append(1)\n",
    "for i in range(len(reg) -1):\n",
    "    print(str(reg[i]) + \" : \" + str(count[i]))\n",
    "if reg != None and count != None:    \n",
    "    plt.xlabel('No of Countries')\n",
    "    plt.ylabel('Region')\n",
    "    plt.barh(reg[:-1], count[:-1], color = 'Blue', align = 'center', alpha=0.5)"
   ]
  },
  {
   "cell_type": "markdown",
   "metadata": {},
   "source": [
    "From the above Bar graph it is clear that Europe & Central Asia region has the largest number of countries."
   ]
  },
  {
   "cell_type": "markdown",
   "metadata": {},
   "source": [
    "3-c: Test how GDPs are alike between regions using two-sample **Kolmogorov-Smirnov** test `ks_2samp()`. Make a data table show $KS-test$ and $p-$ values. Evalueate the result. Expian which regions have similar distributions. [5 pts]"
   ]
  },
  {
   "cell_type": "code",
   "execution_count": 26,
   "metadata": {},
   "outputs": [
    {
     "data": {
      "text/html": [
       "<div>\n",
       "<style scoped>\n",
       "    .dataframe tbody tr th:only-of-type {\n",
       "        vertical-align: middle;\n",
       "    }\n",
       "\n",
       "    .dataframe tbody tr th {\n",
       "        vertical-align: top;\n",
       "    }\n",
       "\n",
       "    .dataframe thead th {\n",
       "        text-align: right;\n",
       "    }\n",
       "</style>\n",
       "<table border=\"1\" class=\"dataframe\">\n",
       "  <thead>\n",
       "    <tr style=\"text-align: right;\">\n",
       "      <th></th>\n",
       "      <th>nGDP</th>\n",
       "    </tr>\n",
       "    <tr>\n",
       "      <th>Income Group</th>\n",
       "      <th></th>\n",
       "    </tr>\n",
       "  </thead>\n",
       "  <tbody>\n",
       "    <tr>\n",
       "      <td>High income: OECD</td>\n",
       "      <td>3.070464e+06</td>\n",
       "    </tr>\n",
       "    <tr>\n",
       "      <td>High income: nonOECD</td>\n",
       "      <td>1.653344e+05</td>\n",
       "    </tr>\n",
       "    <tr>\n",
       "      <td>Low income</td>\n",
       "      <td>2.047309e+04</td>\n",
       "    </tr>\n",
       "    <tr>\n",
       "      <td>Lower middle income</td>\n",
       "      <td>1.139620e+06</td>\n",
       "    </tr>\n",
       "    <tr>\n",
       "      <td>Upper middle income</td>\n",
       "      <td>4.768720e+05</td>\n",
       "    </tr>\n",
       "  </tbody>\n",
       "</table>\n",
       "</div>"
      ],
      "text/plain": [
       "                              nGDP\n",
       "Income Group                      \n",
       "High income: OECD     3.070464e+06\n",
       "High income: nonOECD  1.653344e+05\n",
       "Low income            2.047309e+04\n",
       "Lower middle income   1.139620e+06\n",
       "Upper middle income   4.768720e+05"
      ]
     },
     "execution_count": 26,
     "metadata": {},
     "output_type": "execute_result"
    }
   ],
   "source": [
    "Country_GDP['nGDP'] = Country_GDP['GDP'].apply(lambda x: float(x.strip().replace(',','')))\n",
    "\n",
    "Country_GDP.groupby('Income Group').agg({'nGDP':np.std})"
   ]
  },
  {
   "cell_type": "code",
   "execution_count": 27,
   "metadata": {},
   "outputs": [],
   "source": [
    "### Code Starts Here\n",
    "from scipy.stats import ks_2samp\n",
    "Region_Wise_GDP = dict({})\n",
    "\n",
    "Region_Wise_GDP['Sub-Saharan Africa'] = list(Country_GDP[Country_GDP['Region']=='Sub-Saharan Africa']['nGDP'])\n",
    "Region_Wise_GDP['Middle East & North Africa'] = list(Country_GDP[Country_GDP['Region']=='Middle East & North Africa']['nGDP'])\n",
    "Region_Wise_GDP['South Asia'] = list(Country_GDP[Country_GDP['Region']=='South Asia']['nGDP'])\n",
    "Region_Wise_GDP['Latin America & Caribbean'] = list(Country_GDP[Country_GDP['Region']=='Latin America & Caribbean']['nGDP'])\n",
    "Region_Wise_GDP['Europe & Central Asia'] = list(Country_GDP[Country_GDP['Region']=='Europe & Central Asia']['nGDP'])\n",
    "Region_Wise_GDP['East Asia & Pacific'] = list(Country_GDP[Country_GDP['Region']=='East Asia & Pacific']['nGDP'])\n",
    "Region_Wise_GDP['North America'] = list(Country_GDP[Country_GDP['Region']=='North America']['nGDP'])\n",
    "\n",
    "Regions = ['Sub-Saharan Africa','Middle East & North Africa','South Asia','Latin America & Caribbean','Europe & Central Asia','East Asia & Pacific','North America']\n",
    "\n",
    "ks_2samp_arr = []  \n",
    "cnt = 0\n",
    "\n",
    "for i in range(len(Regions)-1):\n",
    "    for j in range(i+1,len(Regions)):\n",
    "        temp = dict({})\n",
    "        temp['region1'] = Regions[i]\n",
    "        temp['region2'] = Regions[j]\n",
    "        res = ks_2samp(Region_Wise_GDP[Regions[i]],Region_Wise_GDP[Regions[j]])\n",
    "        temp['statistic'] = res.statistic\n",
    "        temp['pvalue'] = res.pvalue\n",
    "        ks_2samp_arr.append(temp)"
   ]
  },
  {
   "cell_type": "code",
   "execution_count": 28,
   "metadata": {},
   "outputs": [
    {
     "data": {
      "text/html": [
       "<div>\n",
       "<style scoped>\n",
       "    .dataframe tbody tr th:only-of-type {\n",
       "        vertical-align: middle;\n",
       "    }\n",
       "\n",
       "    .dataframe tbody tr th {\n",
       "        vertical-align: top;\n",
       "    }\n",
       "\n",
       "    .dataframe thead th {\n",
       "        text-align: right;\n",
       "    }\n",
       "</style>\n",
       "<table border=\"1\" class=\"dataframe\">\n",
       "  <thead>\n",
       "    <tr style=\"text-align: right;\">\n",
       "      <th></th>\n",
       "      <th>region1</th>\n",
       "      <th>region2</th>\n",
       "      <th>statistic</th>\n",
       "      <th>pvalue</th>\n",
       "    </tr>\n",
       "  </thead>\n",
       "  <tbody>\n",
       "    <tr>\n",
       "      <td>0</td>\n",
       "      <td>Sub-Saharan Africa</td>\n",
       "      <td>Middle East &amp; North Africa</td>\n",
       "      <td>0.792271</td>\n",
       "      <td>1.191943e-08</td>\n",
       "    </tr>\n",
       "    <tr>\n",
       "      <td>1</td>\n",
       "      <td>Sub-Saharan Africa</td>\n",
       "      <td>South Asia</td>\n",
       "      <td>0.489130</td>\n",
       "      <td>5.121757e-02</td>\n",
       "    </tr>\n",
       "    <tr>\n",
       "      <td>2</td>\n",
       "      <td>Sub-Saharan Africa</td>\n",
       "      <td>Latin America &amp; Caribbean</td>\n",
       "      <td>0.325466</td>\n",
       "      <td>2.186826e-02</td>\n",
       "    </tr>\n",
       "    <tr>\n",
       "      <td>3</td>\n",
       "      <td>Sub-Saharan Africa</td>\n",
       "      <td>Europe &amp; Central Asia</td>\n",
       "      <td>0.573043</td>\n",
       "      <td>7.469277e-08</td>\n",
       "    </tr>\n",
       "    <tr>\n",
       "      <td>4</td>\n",
       "      <td>Sub-Saharan Africa</td>\n",
       "      <td>East Asia &amp; Pacific</td>\n",
       "      <td>0.370315</td>\n",
       "      <td>1.055858e-02</td>\n",
       "    </tr>\n",
       "    <tr>\n",
       "      <td>5</td>\n",
       "      <td>Sub-Saharan Africa</td>\n",
       "      <td>North America</td>\n",
       "      <td>0.666667</td>\n",
       "      <td>9.194529e-02</td>\n",
       "    </tr>\n",
       "    <tr>\n",
       "      <td>6</td>\n",
       "      <td>Middle East &amp; North Africa</td>\n",
       "      <td>South Asia</td>\n",
       "      <td>0.444444</td>\n",
       "      <td>1.710646e-01</td>\n",
       "    </tr>\n",
       "    <tr>\n",
       "      <td>7</td>\n",
       "      <td>Middle East &amp; North Africa</td>\n",
       "      <td>Latin America &amp; Caribbean</td>\n",
       "      <td>0.515873</td>\n",
       "      <td>2.319415e-03</td>\n",
       "    </tr>\n",
       "    <tr>\n",
       "      <td>8</td>\n",
       "      <td>Middle East &amp; North Africa</td>\n",
       "      <td>Europe &amp; Central Asia</td>\n",
       "      <td>0.244444</td>\n",
       "      <td>3.449642e-01</td>\n",
       "    </tr>\n",
       "    <tr>\n",
       "      <td>9</td>\n",
       "      <td>Middle East &amp; North Africa</td>\n",
       "      <td>East Asia &amp; Pacific</td>\n",
       "      <td>0.496169</td>\n",
       "      <td>4.786941e-03</td>\n",
       "    </tr>\n",
       "    <tr>\n",
       "      <td>10</td>\n",
       "      <td>Middle East &amp; North Africa</td>\n",
       "      <td>North America</td>\n",
       "      <td>0.666667</td>\n",
       "      <td>1.443609e-01</td>\n",
       "    </tr>\n",
       "    <tr>\n",
       "      <td>11</td>\n",
       "      <td>South Asia</td>\n",
       "      <td>Latin America &amp; Caribbean</td>\n",
       "      <td>0.214286</td>\n",
       "      <td>8.659372e-01</td>\n",
       "    </tr>\n",
       "    <tr>\n",
       "      <td>12</td>\n",
       "      <td>South Asia</td>\n",
       "      <td>Europe &amp; Central Asia</td>\n",
       "      <td>0.260000</td>\n",
       "      <td>6.469144e-01</td>\n",
       "    </tr>\n",
       "    <tr>\n",
       "      <td>13</td>\n",
       "      <td>South Asia</td>\n",
       "      <td>East Asia &amp; Pacific</td>\n",
       "      <td>0.344828</td>\n",
       "      <td>3.581753e-01</td>\n",
       "    </tr>\n",
       "    <tr>\n",
       "      <td>14</td>\n",
       "      <td>South Asia</td>\n",
       "      <td>North America</td>\n",
       "      <td>0.541667</td>\n",
       "      <td>4.242424e-01</td>\n",
       "    </tr>\n",
       "    <tr>\n",
       "      <td>15</td>\n",
       "      <td>Latin America &amp; Caribbean</td>\n",
       "      <td>Europe &amp; Central Asia</td>\n",
       "      <td>0.305714</td>\n",
       "      <td>3.328327e-02</td>\n",
       "    </tr>\n",
       "    <tr>\n",
       "      <td>16</td>\n",
       "      <td>Latin America &amp; Caribbean</td>\n",
       "      <td>East Asia &amp; Pacific</td>\n",
       "      <td>0.213793</td>\n",
       "      <td>3.964121e-01</td>\n",
       "    </tr>\n",
       "    <tr>\n",
       "      <td>17</td>\n",
       "      <td>Latin America &amp; Caribbean</td>\n",
       "      <td>North America</td>\n",
       "      <td>0.638095</td>\n",
       "      <td>1.242295e-01</td>\n",
       "    </tr>\n",
       "    <tr>\n",
       "      <td>18</td>\n",
       "      <td>Europe &amp; Central Asia</td>\n",
       "      <td>East Asia &amp; Pacific</td>\n",
       "      <td>0.379310</td>\n",
       "      <td>6.763548e-03</td>\n",
       "    </tr>\n",
       "    <tr>\n",
       "      <td>19</td>\n",
       "      <td>Europe &amp; Central Asia</td>\n",
       "      <td>North America</td>\n",
       "      <td>0.566667</td>\n",
       "      <td>2.247930e-01</td>\n",
       "    </tr>\n",
       "    <tr>\n",
       "      <td>20</td>\n",
       "      <td>East Asia &amp; Pacific</td>\n",
       "      <td>North America</td>\n",
       "      <td>0.597701</td>\n",
       "      <td>1.903226e-01</td>\n",
       "    </tr>\n",
       "  </tbody>\n",
       "</table>\n",
       "</div>"
      ],
      "text/plain": [
       "                       region1                     region2  statistic  \\\n",
       "0           Sub-Saharan Africa  Middle East & North Africa   0.792271   \n",
       "1           Sub-Saharan Africa                  South Asia   0.489130   \n",
       "2           Sub-Saharan Africa   Latin America & Caribbean   0.325466   \n",
       "3           Sub-Saharan Africa       Europe & Central Asia   0.573043   \n",
       "4           Sub-Saharan Africa         East Asia & Pacific   0.370315   \n",
       "5           Sub-Saharan Africa               North America   0.666667   \n",
       "6   Middle East & North Africa                  South Asia   0.444444   \n",
       "7   Middle East & North Africa   Latin America & Caribbean   0.515873   \n",
       "8   Middle East & North Africa       Europe & Central Asia   0.244444   \n",
       "9   Middle East & North Africa         East Asia & Pacific   0.496169   \n",
       "10  Middle East & North Africa               North America   0.666667   \n",
       "11                  South Asia   Latin America & Caribbean   0.214286   \n",
       "12                  South Asia       Europe & Central Asia   0.260000   \n",
       "13                  South Asia         East Asia & Pacific   0.344828   \n",
       "14                  South Asia               North America   0.541667   \n",
       "15   Latin America & Caribbean       Europe & Central Asia   0.305714   \n",
       "16   Latin America & Caribbean         East Asia & Pacific   0.213793   \n",
       "17   Latin America & Caribbean               North America   0.638095   \n",
       "18       Europe & Central Asia         East Asia & Pacific   0.379310   \n",
       "19       Europe & Central Asia               North America   0.566667   \n",
       "20         East Asia & Pacific               North America   0.597701   \n",
       "\n",
       "          pvalue  \n",
       "0   1.191943e-08  \n",
       "1   5.121757e-02  \n",
       "2   2.186826e-02  \n",
       "3   7.469277e-08  \n",
       "4   1.055858e-02  \n",
       "5   9.194529e-02  \n",
       "6   1.710646e-01  \n",
       "7   2.319415e-03  \n",
       "8   3.449642e-01  \n",
       "9   4.786941e-03  \n",
       "10  1.443609e-01  \n",
       "11  8.659372e-01  \n",
       "12  6.469144e-01  \n",
       "13  3.581753e-01  \n",
       "14  4.242424e-01  \n",
       "15  3.328327e-02  \n",
       "16  3.964121e-01  \n",
       "17  1.242295e-01  \n",
       "18  6.763548e-03  \n",
       "19  2.247930e-01  \n",
       "20  1.903226e-01  "
      ]
     },
     "execution_count": 28,
     "metadata": {},
     "output_type": "execute_result"
    }
   ],
   "source": [
    "df_k = pd.DataFrame(ks_2samp_arr, columns=['region1','region2','statistic','pvalue'])\n",
    "df_k"
   ]
  },
  {
   "cell_type": "markdown",
   "metadata": {},
   "source": [
    "3-d: Use `groupby()` and `agg()` to find the average and standard deviation of GDP by `income group`. [5 pts]"
   ]
  },
  {
   "cell_type": "code",
   "execution_count": 29,
   "metadata": {},
   "outputs": [
    {
     "data": {
      "text/html": [
       "<div>\n",
       "<style scoped>\n",
       "    .dataframe tbody tr th:only-of-type {\n",
       "        vertical-align: middle;\n",
       "    }\n",
       "\n",
       "    .dataframe tbody tr th {\n",
       "        vertical-align: top;\n",
       "    }\n",
       "\n",
       "    .dataframe thead th {\n",
       "        text-align: right;\n",
       "    }\n",
       "</style>\n",
       "<table border=\"1\" class=\"dataframe\">\n",
       "  <thead>\n",
       "    <tr style=\"text-align: right;\">\n",
       "      <th></th>\n",
       "      <th>nGDP</th>\n",
       "    </tr>\n",
       "    <tr>\n",
       "      <th>Income Group</th>\n",
       "      <th></th>\n",
       "    </tr>\n",
       "  </thead>\n",
       "  <tbody>\n",
       "    <tr>\n",
       "      <td>High income: OECD</td>\n",
       "      <td>3.070464e+06</td>\n",
       "    </tr>\n",
       "    <tr>\n",
       "      <td>High income: nonOECD</td>\n",
       "      <td>1.653344e+05</td>\n",
       "    </tr>\n",
       "    <tr>\n",
       "      <td>Low income</td>\n",
       "      <td>2.047309e+04</td>\n",
       "    </tr>\n",
       "    <tr>\n",
       "      <td>Lower middle income</td>\n",
       "      <td>1.139620e+06</td>\n",
       "    </tr>\n",
       "    <tr>\n",
       "      <td>Upper middle income</td>\n",
       "      <td>4.768720e+05</td>\n",
       "    </tr>\n",
       "  </tbody>\n",
       "</table>\n",
       "</div>"
      ],
      "text/plain": [
       "                              nGDP\n",
       "Income Group                      \n",
       "High income: OECD     3.070464e+06\n",
       "High income: nonOECD  1.653344e+05\n",
       "Low income            2.047309e+04\n",
       "Lower middle income   1.139620e+06\n",
       "Upper middle income   4.768720e+05"
      ]
     },
     "execution_count": 29,
     "metadata": {},
     "output_type": "execute_result"
    }
   ],
   "source": [
    "Country_GDP['nGDP'] = Country_GDP['GDP'].apply(lambda x: float(x.strip().replace(',','')))\n",
    "\n",
    "Country_GDP.groupby('Income Group').agg({'nGDP':np.std})\n"
   ]
  },
  {
   "cell_type": "markdown",
   "metadata": {},
   "source": [
    "### Problem 4 - Clustering Using KMeans [20 pts]\n",
    "\n",
    "The tasks in this problem are:\n",
    "- impletemenation of KMeans\n",
    "- confirmation of pre-determined K value\n",
    "\n",
    "Here, we have a given data set `HW1_Q1_0.csv` containing coordinates of x and y. \n",
    "\n",
    "4-a. Load the data and add feature name as X and Y for the first and second columns, respectively. (2 pts)"
   ]
  },
  {
   "cell_type": "code",
   "execution_count": 30,
   "metadata": {},
   "outputs": [],
   "source": [
    "import pandas as pd"
   ]
  },
  {
   "cell_type": "code",
   "execution_count": 31,
   "metadata": {},
   "outputs": [
    {
     "data": {
      "text/html": [
       "<div>\n",
       "<style scoped>\n",
       "    .dataframe tbody tr th:only-of-type {\n",
       "        vertical-align: middle;\n",
       "    }\n",
       "\n",
       "    .dataframe tbody tr th {\n",
       "        vertical-align: top;\n",
       "    }\n",
       "\n",
       "    .dataframe thead th {\n",
       "        text-align: right;\n",
       "    }\n",
       "</style>\n",
       "<table border=\"1\" class=\"dataframe\">\n",
       "  <thead>\n",
       "    <tr style=\"text-align: right;\">\n",
       "      <th></th>\n",
       "      <th>X</th>\n",
       "      <th>Y</th>\n",
       "    </tr>\n",
       "  </thead>\n",
       "  <tbody>\n",
       "    <tr>\n",
       "      <td>0</td>\n",
       "      <td>-0.452720</td>\n",
       "      <td>-0.018213</td>\n",
       "    </tr>\n",
       "    <tr>\n",
       "      <td>1</td>\n",
       "      <td>-0.169793</td>\n",
       "      <td>1.073745</td>\n",
       "    </tr>\n",
       "  </tbody>\n",
       "</table>\n",
       "</div>"
      ],
      "text/plain": [
       "          X         Y\n",
       "0 -0.452720 -0.018213\n",
       "1 -0.169793  1.073745"
      ]
     },
     "execution_count": 31,
     "metadata": {},
     "output_type": "execute_result"
    }
   ],
   "source": [
    "### Code starts here\n",
    "colnames=['X', 'Y'] \n",
    "q4 = pd.read_csv('HW1_Q1_0.csv', names=colnames, header=None)\n",
    "q4.head(2)"
   ]
  },
  {
   "cell_type": "markdown",
   "metadata": {},
   "source": [
    "4-b. Using `KMeans` from `sklearn.cluster`, determine the appropriate $K$ value for `HW2_Q1_0.csv` and report it. Explain why your pre-determined $K$ value is appropriate. The function `plot_inertia` is provided to you. (4 pts)"
   ]
  },
  {
   "cell_type": "code",
   "execution_count": 32,
   "metadata": {},
   "outputs": [],
   "source": [
    "from sklearn.cluster import KMeans\n",
    "kmeans = KMeans()\n",
    "\n",
    "def plot_inertia(km, X, n_cluster_range):\n",
    "    inertias = []\n",
    "    for i in n_cluster_range:\n",
    "        km.set_params(n_clusters=i)\n",
    "        km.fit(X)\n",
    "        inertias.append(km.inertia_)\n",
    "    plt.plot(n_cluster_range, inertias, marker='o')\n",
    "    plt.title('Elbow method')\n",
    "    plt.xlabel('Number of clusters')\n",
    "    plt.ylabel('Inertia')\n",
    "    plt.show()\n",
    "    \n",
    "    tabular_result = pd.DataFrame(inertias, \n",
    "                                  index = [\"n = {}\".format(i) for i in range(1, len(inertias)+1)], \n",
    "                                  columns=['Inertia'])\n",
    "    \n",
    "    return tabular_result"
   ]
  },
  {
   "cell_type": "code",
   "execution_count": 33,
   "metadata": {},
   "outputs": [
    {
     "data": {
      "image/png": "[encoded data removed]",
      "text/plain": [
       "<Figure size 432x288 with 1 Axes>"
      ]
     },
     "metadata": {
      "needs_background": "light"
     },
     "output_type": "display_data"
    },
    {
     "data": {
      "text/html": [
       "<div>\n",
       "<style scoped>\n",
       "    .dataframe tbody tr th:only-of-type {\n",
       "        vertical-align: middle;\n",
       "    }\n",
       "\n",
       "    .dataframe tbody tr th {\n",
       "        vertical-align: top;\n",
       "    }\n",
       "\n",
       "    .dataframe thead th {\n",
       "        text-align: right;\n",
       "    }\n",
       "</style>\n",
       "<table border=\"1\" class=\"dataframe\">\n",
       "  <thead>\n",
       "    <tr style=\"text-align: right;\">\n",
       "      <th></th>\n",
       "      <th>Inertia</th>\n",
       "    </tr>\n",
       "  </thead>\n",
       "  <tbody>\n",
       "    <tr>\n",
       "      <td>n = 1</td>\n",
       "      <td>1462.008530</td>\n",
       "    </tr>\n",
       "    <tr>\n",
       "      <td>n = 2</td>\n",
       "      <td>555.425223</td>\n",
       "    </tr>\n",
       "    <tr>\n",
       "      <td>n = 3</td>\n",
       "      <td>416.090217</td>\n",
       "    </tr>\n",
       "    <tr>\n",
       "      <td>n = 4</td>\n",
       "      <td>322.926103</td>\n",
       "    </tr>\n",
       "    <tr>\n",
       "      <td>n = 5</td>\n",
       "      <td>230.500209</td>\n",
       "    </tr>\n",
       "    <tr>\n",
       "      <td>n = 6</td>\n",
       "      <td>193.740859</td>\n",
       "    </tr>\n",
       "    <tr>\n",
       "      <td>n = 7</td>\n",
       "      <td>159.298404</td>\n",
       "    </tr>\n",
       "    <tr>\n",
       "      <td>n = 8</td>\n",
       "      <td>136.732997</td>\n",
       "    </tr>\n",
       "    <tr>\n",
       "      <td>n = 9</td>\n",
       "      <td>123.692796</td>\n",
       "    </tr>\n",
       "    <tr>\n",
       "      <td>n = 10</td>\n",
       "      <td>104.656401</td>\n",
       "    </tr>\n",
       "    <tr>\n",
       "      <td>n = 11</td>\n",
       "      <td>90.877374</td>\n",
       "    </tr>\n",
       "    <tr>\n",
       "      <td>n = 12</td>\n",
       "      <td>77.989086</td>\n",
       "    </tr>\n",
       "    <tr>\n",
       "      <td>n = 13</td>\n",
       "      <td>68.008310</td>\n",
       "    </tr>\n",
       "  </tbody>\n",
       "</table>\n",
       "</div>"
      ],
      "text/plain": [
       "            Inertia\n",
       "n = 1   1462.008530\n",
       "n = 2    555.425223\n",
       "n = 3    416.090217\n",
       "n = 4    322.926103\n",
       "n = 5    230.500209\n",
       "n = 6    193.740859\n",
       "n = 7    159.298404\n",
       "n = 8    136.732997\n",
       "n = 9    123.692796\n",
       "n = 10   104.656401\n",
       "n = 11    90.877374\n",
       "n = 12    77.989086\n",
       "n = 13    68.008310"
      ]
     },
     "execution_count": 33,
     "metadata": {},
     "output_type": "execute_result"
    }
   ],
   "source": [
    "### Code starts here\n",
    "plot_inertia(kmeans, q4, [1,2,3,4,5,6,7,8,9,10,11,12,13])"
   ]
  },
  {
   "cell_type": "markdown",
   "metadata": {},
   "source": [
    "The value of K is 2. Using the above elbow method we can determine optimail value is 2."
   ]
  },
  {
   "cell_type": "markdown",
   "metadata": {},
   "source": [
    "4-c. Make a scatter plot of y vs. x. Do you think your pre-determined $K$ value is acceptable. Explain why. If you do not think your pre-determined $K$ value is not correct, explain what a new pre-determined $K$ value must be. (4 pts) "
   ]
  },
  {
   "cell_type": "code",
   "execution_count": 34,
   "metadata": {},
   "outputs": [
    {
     "data": {
      "image/png": "[encoded data removed]",
      "text/plain": [
       "<Figure size 432x288 with 1 Axes>"
      ]
     },
     "metadata": {
      "needs_background": "light"
     },
     "output_type": "display_data"
    }
   ],
   "source": [
    "### Code starts here\n",
    "import matplotlib.pyplot as plt\n",
    "plt.scatter(q4.X, q4.Y)\n",
    "plt.xlabel('X - value')\n",
    "plt.ylabel('Y - value')\n",
    "plt.show()"
   ]
  },
  {
   "cell_type": "markdown",
   "metadata": {},
   "source": [
    "From the above graph we can observe that there are 2 clustered formed. So, value of K is 2. "
   ]
  },
  {
   "cell_type": "markdown",
   "metadata": {},
   "source": [
    "4-d. Impletement `MY_KMean` that does the KMeans clustering. When you do the implementation, you may use linear algebra built-in functions from `Numpy`. Do not use `KMeans` directly. (10 pts)"
   ]
  },
  {
   "cell_type": "code",
   "execution_count": 35,
   "metadata": {},
   "outputs": [],
   "source": [
    "### Code starts here"
   ]
  },
  {
   "cell_type": "markdown",
   "metadata": {},
   "source": [
    "### Problem 5 - Principal Component Analysis [20 pts]\n",
    "\n",
    "5-a. Run the following codes. "
   ]
  },
  {
   "cell_type": "code",
   "execution_count": 36,
   "metadata": {},
   "outputs": [],
   "source": [
    "import numpy as np\n",
    "\n",
    "np.random.seed(2342)\n",
    "mu_vec1 = np.array([0,0,0])\n",
    "cov_mat1 = np.array([[1,0,0],[0,1,0],[0,0,1]])\n",
    "class1_sample = np.random.multivariate_normal(mu_vec1, cov_mat1, 30).T\n",
    "assert class1_sample.shape == (3,30), \"The matrix has not the dimensions 3x30\"\n",
    "\n",
    "mu_vec2 = np.array([1,1,1])\n",
    "cov_mat2 = np.array([[1,0,0],[0,1,0],[0,0,1]])\n",
    "class2_sample = np.random.multivariate_normal(mu_vec2, cov_mat2, 30).T\n",
    "assert class2_sample.shape == (3,30), \"The matrix has not the dimensions 3x30\""
   ]
  },
  {
   "cell_type": "code",
   "execution_count": 37,
   "metadata": {},
   "outputs": [
    {
     "data": {
      "image/png": "[encoded data removed]",
      "text/plain": [
       "<Figure size 576x576 with 1 Axes>"
      ]
     },
     "metadata": {
      "needs_background": "light"
     },
     "output_type": "display_data"
    }
   ],
   "source": [
    "from matplotlib import pyplot as plt\n",
    "from mpl_toolkits.mplot3d import Axes3D\n",
    "from mpl_toolkits.mplot3d import proj3d\n",
    "\n",
    "fig = plt.figure(figsize=(8,8))\n",
    "ax = fig.add_subplot(111, projection='3d')\n",
    "plt.rcParams['legend.fontsize'] = 10   \n",
    "ax.plot(class1_sample[0,:], class1_sample[1,:], class1_sample[2,:], 'o', markersize=8, color='blue', alpha=0.5, label='class1')\n",
    "ax.plot(class2_sample[0,:], class2_sample[1,:], class2_sample[2,:], '^', markersize=8, alpha=0.5, color='red', label='class2')\n",
    "\n",
    "plt.title('Samples for class 1 and class 2')\n",
    "ax.legend(loc='upper right')\n",
    "\n",
    "plt.show()"
   ]
  },
  {
   "cell_type": "markdown",
   "metadata": {},
   "source": [
    "\n",
    "5-b. PCA Implementation. Here, the descriiption of each step and part of codes. You have to fill out the rest process. [15 pts]\n",
    "\n",
    "1. Take the dataset w/o classes. \n",
    "2. Compute the d-dimentional mean vector.\n",
    "3. Compute the scatter matrix as following. \n",
    "    \n",
    "$$\\textbf{S}=\\sum_{k=1}^N (\\textbf{x}_k-\\bar{\\textbf{x}})(\\textbf{x}_k-\\bar{\\textbf{x}})^T$$ \n",
    "where $\\bar{\\textbf{x}}$ is the mean vector. Then compute the covariance matrix using `np.cov()` function.\n",
    "    \n",
    "4. Compute eigenvectors and corresponding eigenvalues using np.linalg.eig(). \n",
    "5. Check the eigenvector and eigenvalue calculation. This code is provided as well as the visualization of eigenvectors. \n",
    "6. Sort the eigenvectors by descreasing eigenvalues. The idea is that since the eigenvectors will form the axes of new feature subspace, we want to drop for eigenvectors with the lowest eigenvalues that bear the least information about the distribution of the data. \n",
    "7. Choose $k$ eigenvectors with the largest eigenvalues. We are going to reduce a 3-D feature space to a 2-D feature subspace. To do so, we combine the two eigenvectors with the highest eigenvalues to construct our $d\\times k$-D eigenvector matrix $\\bf{W}$.\n",
    "8. Transform the samples onto the new subspace. The new subspace equation is \n",
    "\n",
    "$${\\bf y}={\\bf W}^T\\times {\\bf x}$$"
   ]
  },
  {
   "cell_type": "code",
   "execution_count": 141,
   "metadata": {},
   "outputs": [],
   "source": [
    "### Code starts here"
   ]
  },
  {
   "cell_type": "markdown",
   "metadata": {},
   "source": [
    "5-c. Using `PCA` from sklearn, make a visualization comparison with the result in 3-b and evaluation your impletemented PCA. [5 pts]"
   ]
  },
  {
   "cell_type": "code",
   "execution_count": 142,
   "metadata": {},
   "outputs": [],
   "source": [
    "from sklearn.decomposition import PCA"
   ]
  },
  {
   "cell_type": "code",
   "execution_count": 143,
   "metadata": {},
   "outputs": [],
   "source": [
    "### Code starts here"
   ]
  }
 ],
 "metadata": {
  "kernelspec": {
   "display_name": "Python 3",
   "language": "python",
   "name": "python3"
  },
  "language_info": {
   "codemirror_mode": {
    "name": "ipython",
    "version": 3
   },
   "file_extension": ".py",
   "mimetype": "text/x-python",
   "name": "python",
   "nbconvert_exporter": "python",
   "pygments_lexer": "ipython3",
   "version": "3.7.4"
  }
 },
 "nbformat": 4,
 "nbformat_minor": 4
}
